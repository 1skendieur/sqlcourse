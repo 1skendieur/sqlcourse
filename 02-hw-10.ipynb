{
 "cells": [
  {
   "cell_type": "markdown",
   "metadata": {},
   "source": [
    "### NumPy: Логическое индексирование [Домашнее задание]\n",
    "> **Вы должны импортировать все необходимые пакеты самостоятельно.**\n",
    "\n",
    "> **Пишите код только там, где это показано для записи. Не удаляйте комментарии!**\n",
    " "
   ]
  },
  {
   "cell_type": "markdown",
   "metadata": {},
   "source": [
    "1. Пожалуйста, напишите функцию ```load_data(filename)```, которая будет загружать данные из csv-файла в список списков. Пожалуйста, напишите функцию load_data (имя файла), которая будет загружать данные из csv-файла в список списков. Файл ```Social_Network_Ads.csv``` предоставлен вместе с этим jupyter notebook.\n",
    "\n",
    "\n",
    "**Примечание:** В случае, если имя файла задано неверно, функция ```load_data``` должна вывести следующее сообщение об ошибке:\n",
    "\n",
    "```{имя файла} does not exist```"
   ]
  },
  {
   "cell_type": "code",
   "execution_count": 21,
   "metadata": {},
   "outputs": [],
   "source": [
    "#Начало вашего кода\n",
    "import csv\n",
    "import numpy as np\n",
    "def load_data(filename):\n",
    "    try:\n",
    "        with open(filename, 'r') as file:\n",
    "            csv_reader = csv.reader(file)\n",
    "            data = list(csv_reader)\n",
    "            header = data[0]  # Первая строка в данных как заголовок\n",
    "            data = data[1:]   # Остальные строки как данные\n",
    "            return header, data\n",
    "    except FileNotFoundError:\n",
    "        print(f\"{filename} does not exist\")\n",
    "        return None, None\n",
    "#Конец вашего кода"
   ]
  },
  {
   "cell_type": "code",
   "execution_count": 22,
   "metadata": {},
   "outputs": [
    {
     "name": "stdout",
     "output_type": "stream",
     "text": [
      "./SocialNetworkAds.csv does not exist\n"
     ]
    }
   ],
   "source": [
    "filename = \"./SocialNetworkAds.csv\"\n",
    "header, data = load_data(filename=filename)"
   ]
  },
  {
   "cell_type": "markdown",
   "metadata": {},
   "source": [
    "### Ожидаемый результат:\n",
    "\n",
    "```\n",
    "./SocialNetworkAds.csv does not exist\n",
    "```"
   ]
  },
  {
   "cell_type": "code",
   "execution_count": 23,
   "metadata": {},
   "outputs": [
    {
     "name": "stdout",
     "output_type": "stream",
     "text": [
      "None\n",
      "None\n"
     ]
    }
   ],
   "source": [
    "print(header)\n",
    "print(data)"
   ]
  },
  {
   "cell_type": "markdown",
   "metadata": {},
   "source": [
    "### Ожидаемый результат:\n",
    "\n",
    "```\n",
    "None\n",
    "None\n",
    "```"
   ]
  },
  {
   "cell_type": "code",
   "execution_count": 24,
   "metadata": {},
   "outputs": [],
   "source": [
    "filename = \"./Social_Network_Ads.csv\"\n",
    "header, data = load_data(filename=filename)"
   ]
  },
  {
   "cell_type": "code",
   "execution_count": 25,
   "metadata": {},
   "outputs": [
    {
     "name": "stdout",
     "output_type": "stream",
     "text": [
      "['User ID', 'Gender', 'Age', 'EstimatedSalary', 'Purchased']\n"
     ]
    }
   ],
   "source": [
    "print(header)"
   ]
  },
  {
   "cell_type": "markdown",
   "metadata": {},
   "source": [
    "### Ожидаемый результат:\n",
    "\n",
    "```\n",
    "['User ID', 'Gender', 'Age', 'EstimatedSalary', 'Purchased']\n",
    "```"
   ]
  },
  {
   "cell_type": "code",
   "execution_count": 26,
   "metadata": {},
   "outputs": [
    {
     "name": "stdout",
     "output_type": "stream",
     "text": [
      "['15624510', 'Male', '19', '19000', '0']\n",
      "['15810944', 'Male', '35', '20000', '0']\n",
      "['15668575', 'Female', '26', '43000', '0']\n",
      "['15603246', 'Female', '27', '57000', '0']\n",
      "['15804002', 'Male', '19', '76000', '0']\n"
     ]
    }
   ],
   "source": [
    "for i in range(5):\n",
    "    print(data[i])"
   ]
  },
  {
   "cell_type": "markdown",
   "metadata": {},
   "source": [
    "### Ожидаемый результат:\n",
    "\n",
    "```\n",
    "['15624510', 'Male', '19', '19000', '0']\n",
    "['15810944', 'Male', '35', '20000', '0']\n",
    "['15668575', 'Female', '26', '43000', '0']\n",
    "['15603246', 'Female', '27', '57000', '0']\n",
    "['15804002', 'Male', '19', '76000', '0']\n",
    "```"
   ]
  },
  {
   "cell_type": "markdown",
   "metadata": {},
   "source": [
    "2. Пожалуйста, напишите функцию ```preprocess_data(data)```, которая преобразует все элементы типа ```str``` в списке ```data``` в целые числа.\n",
    "\n",
    "\n",
    "**Подсказка:** в случае \"Male\" и \"Female\" возможно следующее преобразование:\n",
    "\n",
    "* заменить \"Male\" на число 0\n",
    "\n",
    "* заменить \"Female\" на число 1"
   ]
  },
  {
   "cell_type": "code",
   "execution_count": 27,
   "metadata": {},
   "outputs": [],
   "source": [
    "#Начало вашего кода\n",
    "import csv\n",
    "\n",
    "def preprocess_data(data):\n",
    "    for row in data:\n",
    "        for i, element in enumerate(row):\n",
    "            if element == 'Male':\n",
    "                row[i] = 0\n",
    "            elif element == 'Female':\n",
    "                row[i] = 1\n",
    "            else:\n",
    "                try:\n",
    "                    row[i] = int(element)\n",
    "                except ValueError:\n",
    "                    pass  # Пропустить элементы, которые не могут быть преобразованы в int\n",
    "    return data\n",
    "#Конец вашего кода"
   ]
  },
  {
   "cell_type": "code",
   "execution_count": 28,
   "metadata": {},
   "outputs": [],
   "source": [
    "filt_data = preprocess_data(data=data)"
   ]
  },
  {
   "cell_type": "code",
   "execution_count": 29,
   "metadata": {},
   "outputs": [
    {
     "name": "stdout",
     "output_type": "stream",
     "text": [
      "[15624510, 0, 19, 19000, 0]\n",
      "[15810944, 0, 35, 20000, 0]\n",
      "[15668575, 1, 26, 43000, 0]\n",
      "[15603246, 1, 27, 57000, 0]\n",
      "[15804002, 0, 19, 76000, 0]\n"
     ]
    }
   ],
   "source": [
    "for i in range(5):\n",
    "    print(filt_data[i])"
   ]
  },
  {
   "cell_type": "markdown",
   "metadata": {},
   "source": [
    "### Ожидаемый результат:\n",
    "\n",
    "```\n",
    "[15624510, 0, 19, 19000, 0]\n",
    "[15810944, 0, 35, 20000, 0]\n",
    "[15668575, 1, 26, 43000, 0]\n",
    "[15603246, 1, 27, 57000, 0]\n",
    "[15804002, 0, 19, 76000, 0]\n",
    "```"
   ]
  },
  {
   "cell_type": "markdown",
   "metadata": {},
   "source": [
    "2. Вы должны реализовать функцию ```salary_info(data, gender=None)```. Используя логическое индексирование, рассчитайте максимальное, минимальное, среднее, и стандартное отклонение зарплаты."
   ]
  },
  {
   "cell_type": "code",
   "execution_count": 44,
   "metadata": {},
   "outputs": [],
   "source": [
    "#Начало вашего кода\n",
    "def salary_info(data, gender=None):\n",
    "    salaries = [float(row[-1]) for row in data if isinstance(row[1], str)]  # Получение списка всех зарплат, учитывая только строки во втором столбце\n",
    "\n",
    "    if gender is not None:  # Если указан пол, фильтруем зарплаты по полу\n",
    "        gender = gender.lower()\n",
    "        filtered_salaries = [float(row[-1]) for row in data if isinstance(row[1], str) and row[1].lower() == gender]\n",
    "        if len(filtered_salaries) > 0:\n",
    "            salaries = filtered_salaries\n",
    "        else:\n",
    "            print(f\"No data available for {gender.capitalize()}.\")\n",
    "            return\n",
    "\n",
    "    salaries = np.array(salaries, dtype=float)  # Преобразование в массив NumPy для вычисления статистики\n",
    "\n",
    "    if gender is None:\n",
    "        print(\"This statistics are for both genders:\")\n",
    "    else:\n",
    "        print(f\"This statistics are for only {gender.capitalize()}:\")\n",
    "\n",
    "    print(f\"Max salary: {np.max(salaries):,.2f} USD\")\n",
    "    print(f\"Min salary: {np.min(salaries):,.2f} USD\")\n",
    "    print(f\"Mean salary: {np.mean(salaries):,.2f} USD\")\n",
    "    print(f\"Std of salary: {np.std(salaries):,.2f} USD\")\n",
    "\n",
    "\n",
    "#Конец вашего кода"
   ]
  },
  {
   "cell_type": "code",
   "execution_count": 45,
   "metadata": {},
   "outputs": [
    {
     "name": "stdout",
     "output_type": "stream",
     "text": [
      "This statistics are for both genders:\n"
     ]
    },
    {
     "ename": "ValueError",
     "evalue": "zero-size array to reduction operation maximum which has no identity",
     "output_type": "error",
     "traceback": [
      "\u001b[1;31m---------------------------------------------------------------------------\u001b[0m",
      "\u001b[1;31mValueError\u001b[0m                                Traceback (most recent call last)",
      "\u001b[1;32m~\\AppData\\Local\\Temp\\ipykernel_23416\\1704979021.py\u001b[0m in \u001b[0;36m<module>\u001b[1;34m\u001b[0m\n\u001b[1;32m----> 1\u001b[1;33m \u001b[0msalary_info\u001b[0m\u001b[1;33m(\u001b[0m\u001b[0mfilt_data\u001b[0m\u001b[1;33m)\u001b[0m\u001b[1;33m\u001b[0m\u001b[1;33m\u001b[0m\u001b[0m\n\u001b[0m",
      "\u001b[1;32m~\\AppData\\Local\\Temp\\ipykernel_23416\\600127822.py\u001b[0m in \u001b[0;36msalary_info\u001b[1;34m(data, gender)\u001b[0m\n\u001b[0;32m     19\u001b[0m         \u001b[0mprint\u001b[0m\u001b[1;33m(\u001b[0m\u001b[1;34mf\"This statistics are for only {gender.capitalize()}:\"\u001b[0m\u001b[1;33m)\u001b[0m\u001b[1;33m\u001b[0m\u001b[1;33m\u001b[0m\u001b[0m\n\u001b[0;32m     20\u001b[0m \u001b[1;33m\u001b[0m\u001b[0m\n\u001b[1;32m---> 21\u001b[1;33m     \u001b[0mprint\u001b[0m\u001b[1;33m(\u001b[0m\u001b[1;34mf\"Max salary: {np.max(salaries):,.2f} USD\"\u001b[0m\u001b[1;33m)\u001b[0m\u001b[1;33m\u001b[0m\u001b[1;33m\u001b[0m\u001b[0m\n\u001b[0m\u001b[0;32m     22\u001b[0m     \u001b[0mprint\u001b[0m\u001b[1;33m(\u001b[0m\u001b[1;34mf\"Min salary: {np.min(salaries):,.2f} USD\"\u001b[0m\u001b[1;33m)\u001b[0m\u001b[1;33m\u001b[0m\u001b[1;33m\u001b[0m\u001b[0m\n\u001b[0;32m     23\u001b[0m     \u001b[0mprint\u001b[0m\u001b[1;33m(\u001b[0m\u001b[1;34mf\"Mean salary: {np.mean(salaries):,.2f} USD\"\u001b[0m\u001b[1;33m)\u001b[0m\u001b[1;33m\u001b[0m\u001b[1;33m\u001b[0m\u001b[0m\n",
      "\u001b[1;32m<__array_function__ internals>\u001b[0m in \u001b[0;36mamax\u001b[1;34m(*args, **kwargs)\u001b[0m\n",
      "\u001b[1;32m~\\anaconda3\\lib\\site-packages\\numpy\\core\\fromnumeric.py\u001b[0m in \u001b[0;36mamax\u001b[1;34m(a, axis, out, keepdims, initial, where)\u001b[0m\n\u001b[0;32m   2752\u001b[0m     \u001b[1;36m5\u001b[0m\u001b[1;33m\u001b[0m\u001b[1;33m\u001b[0m\u001b[0m\n\u001b[0;32m   2753\u001b[0m     \"\"\"\n\u001b[1;32m-> 2754\u001b[1;33m     return _wrapreduction(a, np.maximum, 'max', axis, None, out,\n\u001b[0m\u001b[0;32m   2755\u001b[0m                           keepdims=keepdims, initial=initial, where=where)\n\u001b[0;32m   2756\u001b[0m \u001b[1;33m\u001b[0m\u001b[0m\n",
      "\u001b[1;32m~\\anaconda3\\lib\\site-packages\\numpy\\core\\fromnumeric.py\u001b[0m in \u001b[0;36m_wrapreduction\u001b[1;34m(obj, ufunc, method, axis, dtype, out, **kwargs)\u001b[0m\n\u001b[0;32m     84\u001b[0m                 \u001b[1;32mreturn\u001b[0m \u001b[0mreduction\u001b[0m\u001b[1;33m(\u001b[0m\u001b[0maxis\u001b[0m\u001b[1;33m=\u001b[0m\u001b[0maxis\u001b[0m\u001b[1;33m,\u001b[0m \u001b[0mout\u001b[0m\u001b[1;33m=\u001b[0m\u001b[0mout\u001b[0m\u001b[1;33m,\u001b[0m \u001b[1;33m**\u001b[0m\u001b[0mpasskwargs\u001b[0m\u001b[1;33m)\u001b[0m\u001b[1;33m\u001b[0m\u001b[1;33m\u001b[0m\u001b[0m\n\u001b[0;32m     85\u001b[0m \u001b[1;33m\u001b[0m\u001b[0m\n\u001b[1;32m---> 86\u001b[1;33m     \u001b[1;32mreturn\u001b[0m \u001b[0mufunc\u001b[0m\u001b[1;33m.\u001b[0m\u001b[0mreduce\u001b[0m\u001b[1;33m(\u001b[0m\u001b[0mobj\u001b[0m\u001b[1;33m,\u001b[0m \u001b[0maxis\u001b[0m\u001b[1;33m,\u001b[0m \u001b[0mdtype\u001b[0m\u001b[1;33m,\u001b[0m \u001b[0mout\u001b[0m\u001b[1;33m,\u001b[0m \u001b[1;33m**\u001b[0m\u001b[0mpasskwargs\u001b[0m\u001b[1;33m)\u001b[0m\u001b[1;33m\u001b[0m\u001b[1;33m\u001b[0m\u001b[0m\n\u001b[0m\u001b[0;32m     87\u001b[0m \u001b[1;33m\u001b[0m\u001b[0m\n\u001b[0;32m     88\u001b[0m \u001b[1;33m\u001b[0m\u001b[0m\n",
      "\u001b[1;31mValueError\u001b[0m: zero-size array to reduction operation maximum which has no identity"
     ]
    }
   ],
   "source": [
    "salary_info(filt_data)"
   ]
  },
  {
   "cell_type": "markdown",
   "metadata": {},
   "source": [
    "### Ожидаемый результат:\n",
    "\n",
    "```\n",
    "This statisctics are for both genders:\n",
    "Max salary: 150000.00 USD\n",
    "Min salary: 15000.00 USD\n",
    "Mean salary: 69742.50 USD\n",
    "Std of salary: 34054.31 USD\n",
    "```"
   ]
  },
  {
   "cell_type": "code",
   "execution_count": 46,
   "metadata": {},
   "outputs": [
    {
     "name": "stdout",
     "output_type": "stream",
     "text": [
      "No data available for Female.\n"
     ]
    }
   ],
   "source": [
    "salary_info(filt_data, gender=\"Female\")"
   ]
  },
  {
   "cell_type": "markdown",
   "metadata": {},
   "source": [
    "### Ожидаемый результат:\n",
    "\n",
    "```\n",
    "This statisctics are for only Female:\n",
    "Max salary: 150000.00 USD\n",
    "Min salary: 15000.00 USD\n",
    "Mean salary: 71759.80 USD\n",
    "Std of salary: 35507.89 USD\n",
    "```"
   ]
  },
  {
   "cell_type": "code",
   "execution_count": 37,
   "metadata": {},
   "outputs": [
    {
     "ename": "AttributeError",
     "evalue": "'int' object has no attribute 'lower'",
     "output_type": "error",
     "traceback": [
      "\u001b[1;31m---------------------------------------------------------------------------\u001b[0m",
      "\u001b[1;31mAttributeError\u001b[0m                            Traceback (most recent call last)",
      "\u001b[1;32m~\\AppData\\Local\\Temp\\ipykernel_23416\\3091062846.py\u001b[0m in \u001b[0;36m<module>\u001b[1;34m\u001b[0m\n\u001b[1;32m----> 1\u001b[1;33m \u001b[0msalary_info\u001b[0m\u001b[1;33m(\u001b[0m\u001b[0mfilt_data\u001b[0m\u001b[1;33m,\u001b[0m \u001b[0mgender\u001b[0m\u001b[1;33m=\u001b[0m\u001b[1;34m\"male\"\u001b[0m\u001b[1;33m)\u001b[0m\u001b[1;33m\u001b[0m\u001b[1;33m\u001b[0m\u001b[0m\n\u001b[0m",
      "\u001b[1;32m~\\AppData\\Local\\Temp\\ipykernel_23416\\1705394042.py\u001b[0m in \u001b[0;36msalary_info\u001b[1;34m(data, gender)\u001b[0m\n\u001b[0;32m      5\u001b[0m     \u001b[1;32mif\u001b[0m \u001b[0mgender\u001b[0m \u001b[1;32mis\u001b[0m \u001b[1;32mnot\u001b[0m \u001b[1;32mNone\u001b[0m\u001b[1;33m:\u001b[0m  \u001b[1;31m# Если указан пол, фильтруем зарплаты по полу\u001b[0m\u001b[1;33m\u001b[0m\u001b[1;33m\u001b[0m\u001b[0m\n\u001b[0;32m      6\u001b[0m         \u001b[0mgender\u001b[0m \u001b[1;33m=\u001b[0m \u001b[0mgender\u001b[0m\u001b[1;33m.\u001b[0m\u001b[0mlower\u001b[0m\u001b[1;33m(\u001b[0m\u001b[1;33m)\u001b[0m\u001b[1;33m\u001b[0m\u001b[1;33m\u001b[0m\u001b[0m\n\u001b[1;32m----> 7\u001b[1;33m         \u001b[0mgender_filter\u001b[0m \u001b[1;33m=\u001b[0m \u001b[1;33m[\u001b[0m\u001b[0mrow\u001b[0m\u001b[1;33m[\u001b[0m\u001b[1;36m1\u001b[0m\u001b[1;33m]\u001b[0m\u001b[1;33m.\u001b[0m\u001b[0mlower\u001b[0m\u001b[1;33m(\u001b[0m\u001b[1;33m)\u001b[0m \u001b[1;33m==\u001b[0m \u001b[0mgender\u001b[0m \u001b[1;32mfor\u001b[0m \u001b[0mrow\u001b[0m \u001b[1;32min\u001b[0m \u001b[0mdata\u001b[0m\u001b[1;33m]\u001b[0m\u001b[1;33m\u001b[0m\u001b[1;33m\u001b[0m\u001b[0m\n\u001b[0m\u001b[0;32m      8\u001b[0m         \u001b[0msalaries\u001b[0m \u001b[1;33m=\u001b[0m \u001b[1;33m[\u001b[0m\u001b[0msalaries\u001b[0m\u001b[1;33m[\u001b[0m\u001b[0mi\u001b[0m\u001b[1;33m]\u001b[0m \u001b[1;32mfor\u001b[0m \u001b[0mi\u001b[0m\u001b[1;33m,\u001b[0m \u001b[0mis_gender\u001b[0m \u001b[1;32min\u001b[0m \u001b[0menumerate\u001b[0m\u001b[1;33m(\u001b[0m\u001b[0mgender_filter\u001b[0m\u001b[1;33m)\u001b[0m \u001b[1;32mif\u001b[0m \u001b[0mis_gender\u001b[0m\u001b[1;33m]\u001b[0m\u001b[1;33m\u001b[0m\u001b[1;33m\u001b[0m\u001b[0m\n\u001b[0;32m      9\u001b[0m \u001b[1;33m\u001b[0m\u001b[0m\n",
      "\u001b[1;32m~\\AppData\\Local\\Temp\\ipykernel_23416\\1705394042.py\u001b[0m in \u001b[0;36m<listcomp>\u001b[1;34m(.0)\u001b[0m\n\u001b[0;32m      5\u001b[0m     \u001b[1;32mif\u001b[0m \u001b[0mgender\u001b[0m \u001b[1;32mis\u001b[0m \u001b[1;32mnot\u001b[0m \u001b[1;32mNone\u001b[0m\u001b[1;33m:\u001b[0m  \u001b[1;31m# Если указан пол, фильтруем зарплаты по полу\u001b[0m\u001b[1;33m\u001b[0m\u001b[1;33m\u001b[0m\u001b[0m\n\u001b[0;32m      6\u001b[0m         \u001b[0mgender\u001b[0m \u001b[1;33m=\u001b[0m \u001b[0mgender\u001b[0m\u001b[1;33m.\u001b[0m\u001b[0mlower\u001b[0m\u001b[1;33m(\u001b[0m\u001b[1;33m)\u001b[0m\u001b[1;33m\u001b[0m\u001b[1;33m\u001b[0m\u001b[0m\n\u001b[1;32m----> 7\u001b[1;33m         \u001b[0mgender_filter\u001b[0m \u001b[1;33m=\u001b[0m \u001b[1;33m[\u001b[0m\u001b[0mrow\u001b[0m\u001b[1;33m[\u001b[0m\u001b[1;36m1\u001b[0m\u001b[1;33m]\u001b[0m\u001b[1;33m.\u001b[0m\u001b[0mlower\u001b[0m\u001b[1;33m(\u001b[0m\u001b[1;33m)\u001b[0m \u001b[1;33m==\u001b[0m \u001b[0mgender\u001b[0m \u001b[1;32mfor\u001b[0m \u001b[0mrow\u001b[0m \u001b[1;32min\u001b[0m \u001b[0mdata\u001b[0m\u001b[1;33m]\u001b[0m\u001b[1;33m\u001b[0m\u001b[1;33m\u001b[0m\u001b[0m\n\u001b[0m\u001b[0;32m      8\u001b[0m         \u001b[0msalaries\u001b[0m \u001b[1;33m=\u001b[0m \u001b[1;33m[\u001b[0m\u001b[0msalaries\u001b[0m\u001b[1;33m[\u001b[0m\u001b[0mi\u001b[0m\u001b[1;33m]\u001b[0m \u001b[1;32mfor\u001b[0m \u001b[0mi\u001b[0m\u001b[1;33m,\u001b[0m \u001b[0mis_gender\u001b[0m \u001b[1;32min\u001b[0m \u001b[0menumerate\u001b[0m\u001b[1;33m(\u001b[0m\u001b[0mgender_filter\u001b[0m\u001b[1;33m)\u001b[0m \u001b[1;32mif\u001b[0m \u001b[0mis_gender\u001b[0m\u001b[1;33m]\u001b[0m\u001b[1;33m\u001b[0m\u001b[1;33m\u001b[0m\u001b[0m\n\u001b[0;32m      9\u001b[0m \u001b[1;33m\u001b[0m\u001b[0m\n",
      "\u001b[1;31mAttributeError\u001b[0m: 'int' object has no attribute 'lower'"
     ]
    }
   ],
   "source": [
    "salary_info(filt_data, gender=\"male\")"
   ]
  },
  {
   "cell_type": "markdown",
   "metadata": {},
   "source": [
    "### Ожидаемый результат:\n",
    "\n",
    "```\n",
    "This statisctics are for only Male:\n",
    "Max salary: 150000.00 USD\n",
    "Min salary: 15000.00 USD\n",
    "Mean salary: 67642.86 USD\n",
    "Std of salary: 32339.00 USD\n",
    "```"
   ]
  },
  {
   "cell_type": "markdown",
   "metadata": {},
   "source": [
    "3. Вы должны реализовать функцию ```age_info(data, gender=None)```. Используя логическое индексирование, рассчитайте максимальное, минимальное, среднее, и стандартное отклонение возрастов."
   ]
  },
  {
   "cell_type": "code",
   "execution_count": null,
   "metadata": {},
   "outputs": [],
   "source": [
    "#Начало вашего кода\n",
    "\n",
    "#Конец вашего кода"
   ]
  },
  {
   "cell_type": "code",
   "execution_count": null,
   "metadata": {},
   "outputs": [],
   "source": [
    "age_info(filt_data)"
   ]
  },
  {
   "cell_type": "markdown",
   "metadata": {},
   "source": [
    "### Ожидаемый результат:\n",
    "\n",
    "```\n",
    "This statisctics are for both genders:\n",
    "Max age: 60.00 years old\n",
    "Min age: 18.00 years old\n",
    "Mean age: 37.66 years old\n",
    "Std of age: 10.47 years\n",
    "```"
   ]
  },
  {
   "cell_type": "code",
   "execution_count": null,
   "metadata": {},
   "outputs": [],
   "source": [
    "age_info(filt_data,\"FEMALE\")"
   ]
  },
  {
   "cell_type": "markdown",
   "metadata": {},
   "source": [
    "### Ожидаемый результат:\n",
    "\n",
    "```\n",
    "This statisctics are for only Female:\n",
    "Max age: 60.00 years old\n",
    "Min age: 18.00 years old\n",
    "Mean age: 38.41 years old\n",
    "Std of age: 10.83 years\n",
    "```"
   ]
  },
  {
   "cell_type": "code",
   "execution_count": null,
   "metadata": {},
   "outputs": [],
   "source": [
    "age_info(filt_data,\"mALE\")"
   ]
  },
  {
   "cell_type": "markdown",
   "metadata": {},
   "source": [
    "### Ожидаемый результат:\n",
    "\n",
    "```\n",
    "This statisctics are for only Male:\n",
    "Max age: 60.00 years old\n",
    "Min age: 18.00 years old\n",
    "Mean age: 36.87 years old\n",
    "Std of age: 10.02 years\n",
    "```"
   ]
  },
  {
   "cell_type": "markdown",
   "metadata": {},
   "source": [
    "4. Реализовать функции ```salary_info_purchased(data, gender=None, purchased=None)``` и ```age_info_purchased(data, gender=None, purchased=None)```, возвращая статистику, как в задачах 2 и 3, но в зависимости от того, приобрел ли человек продукт или нет."
   ]
  },
  {
   "cell_type": "code",
   "execution_count": null,
   "metadata": {},
   "outputs": [],
   "source": [
    "#Начало вашего кода\n",
    "\n",
    "#Конец вашего кода"
   ]
  },
  {
   "cell_type": "code",
   "execution_count": null,
   "metadata": {},
   "outputs": [],
   "source": [
    "salary_info_purchased(filt_data)\n",
    "print(\"\\n\")\n",
    "salary_info_purchased(filt_data, gender=\"Female\")\n",
    "print(\"\\n\")\n",
    "salary_info_purchased(filt_data, gender=\"Male\")\n",
    "print(\"\\n\")\n",
    "salary_info_purchased(filt_data, purchased=True)\n",
    "print(\"\\n\")\n",
    "salary_info_purchased(filt_data, gender=\"Female\", purchased=True)\n",
    "print(\"\\n\")\n",
    "salary_info_purchased(filt_data, gender=\"Male\", purchased=False)\n",
    "print(\"\\n\")"
   ]
  },
  {
   "cell_type": "markdown",
   "metadata": {},
   "source": [
    "### Ожидаемый результат:\n",
    "\n",
    "```\n",
    "This statisctics are for both genders:\n",
    "Max salary: 150000.00 USD\n",
    "Min salary: 15000.00 USD\n",
    "Mean salary: 69742.50 USD\n",
    "Std of salary: 34054.31 USD\n",
    "\n",
    "\n",
    "This statisctics are for only Female:\n",
    "Max salary: 150000.00 USD\n",
    "Min salary: 15000.00 USD\n",
    "Mean salary: 71759.80 USD\n",
    "Std of salary: 35507.89 USD\n",
    "\n",
    "\n",
    "This statisctics are for only Male:\n",
    "Max salary: 150000.00 USD\n",
    "Min salary: 15000.00 USD\n",
    "Mean salary: 67642.86 USD\n",
    "Std of salary: 32339.00 USD\n",
    "\n",
    "\n",
    "This statisctics are for both genders and who purchased:\n",
    "Max salary: 150000.00 USD\n",
    "Min salary: 20000.00 USD\n",
    "Mean salary: 86272.73 USD\n",
    "Std of salary: 41916.86 USD\n",
    "\n",
    "\n",
    "This statisctics are for only Female and who purchased:\n",
    "Max salary: 150000.00 USD\n",
    "Min salary: 20000.00 USD\n",
    "Mean salary: 88714.29 USD\n",
    "Std of salary: 42842.16 USD\n",
    "\n",
    "\n",
    "This statisctics are for only Male and who did not purchased:\n",
    "Max salary: 141000.00 USD\n",
    "Min salary: 15000.00 USD\n",
    "Mean salary: 59630.77 USD\n",
    "Std of salary: 23413.72 USD\n",
    "```"
   ]
  },
  {
   "cell_type": "code",
   "execution_count": null,
   "metadata": {},
   "outputs": [],
   "source": [
    "#Начало вашего кода\n",
    "\n",
    "#Конец вашего кода"
   ]
  },
  {
   "cell_type": "code",
   "execution_count": null,
   "metadata": {},
   "outputs": [],
   "source": [
    "age_info_purchased(filt_data)\n",
    "print(\"\\n\")\n",
    "age_info_purchased(filt_data, gender=\"Female\")\n",
    "print(\"\\n\")\n",
    "age_info_purchased(filt_data, gender=\"Male\")\n",
    "print(\"\\n\")\n",
    "age_info_purchased(filt_data, purchased=True)\n",
    "print(\"\\n\")\n",
    "age_info_purchased(filt_data, gender=\"Female\", purchased=True)\n",
    "print(\"\\n\")\n",
    "age_info_purchased(filt_data, gender=\"Male\", purchased=False)\n",
    "print(\"\\n\")"
   ]
  },
  {
   "cell_type": "markdown",
   "metadata": {},
   "source": [
    "### Ожидаемый результат:\n",
    "\n",
    "```\n",
    "This statisctics are for both genders:\n",
    "Max age: 60.00 years old\n",
    "Min age: 18.00 years old\n",
    "Mean age: 37.66 years old\n",
    "Std of age: 10.47 years\n",
    "\n",
    "\n",
    "This statisctics are for only Female:\n",
    "Max age: 60.00 years old\n",
    "Min age: 18.00 years old\n",
    "Mean age: 38.41 years old\n",
    "Std of age: 10.83 years\n",
    "\n",
    "\n",
    "This statisctics are for only Male:\n",
    "Max age: 60.00 years old\n",
    "Min age: 18.00 years old\n",
    "Mean age: 36.87 years old\n",
    "Std of age: 10.02 years\n",
    "\n",
    "\n",
    "This statisctics are for both genders and who purchased:\n",
    "Max age: 60.00 years old\n",
    "Min age: 27.00 years old\n",
    "Mean age: 46.39 years old\n",
    "Std of age:  8.58 years\n",
    "\n",
    "\n",
    "This statisctics are for only Female and who purchased:\n",
    "Max age: 60.00 years old\n",
    "Min age: 27.00 years old\n",
    "Mean age: 47.16 years old\n",
    "Std of age:  8.41 years\n",
    "\n",
    "\n",
    "This statisctics are for only Male and who did not purchased:\n",
    "Max age: 49.00 years old\n",
    "Min age: 18.00 years old\n",
    "Mean age: 32.48 years old\n",
    "Std of age:  7.48 years\n",
    "```"
   ]
  },
  {
   "cell_type": "markdown",
   "metadata": {},
   "source": [
    "# Прекрасная работа!"
   ]
  }
 ],
 "metadata": {
  "kernelspec": {
   "display_name": "Python 3 (ipykernel)",
   "language": "python",
   "name": "python3"
  },
  "language_info": {
   "codemirror_mode": {
    "name": "ipython",
    "version": 3
   },
   "file_extension": ".py",
   "mimetype": "text/x-python",
   "name": "python",
   "nbconvert_exporter": "python",
   "pygments_lexer": "ipython3",
   "version": "3.9.13"
  }
 },
 "nbformat": 4,
 "nbformat_minor": 2
}
