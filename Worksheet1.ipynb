{
 "cells": [
  {
   "cell_type": "markdown",
   "metadata": {},
   "source": [
    "**1) Для заданного целого числа n выполнить следующие условные действия:**\n",
    "\n",
    "Если n нечетно, выведите Astana\n",
    "\n",
    "Если n чётно и находится в диапазоне от 2 до 5, выведите Алматы\n",
    "\n",
    "Если n чётно и находится в диапазоне от 6 до 20 включительно, выведите Astana\n",
    "\n",
    "Если n чётно и больше 20, выведите Алматы"
   ]
  },
  {
   "cell_type": "code",
   "execution_count": 3,
   "metadata": {},
   "outputs": [
    {
     "name": "stdout",
     "output_type": "stream",
     "text": [
      "4\n",
      "astana\n"
     ]
    }
   ],
   "source": [
    "n=int(input())\n",
    "if n/2 != 0:\n",
    "    print(\"Astana\")\n",
    "elif n/2 == 0 and n>2 and n<5:\n",
    "    print(\"Almaty\")\n",
    "elif n/2 == 0 and n>6 and n<=20:\n",
    "    print(\"Astana\")\n",
    "elif n/2 == 0 and n>20:\n",
    "    print(\"Almaty\")\n",
    "    \n"
   ]
  },
  {
   "cell_type": "markdown",
   "metadata": {},
   "source": [
    "**2) Дано целое число n. Для всех неотрицательных целых чисел i <n, выведите квадрат числа i.**"
   ]
  },
  {
   "cell_type": "code",
   "execution_count": 7,
   "metadata": {},
   "outputs": [
    {
     "name": "stdout",
     "output_type": "stream",
     "text": [
      "5\n",
      "0\n",
      "1\n",
      "4\n",
      "9\n",
      "16\n"
     ]
    }
   ],
   "source": [
    "n=int(input())\n",
    "i=0\n",
    "for i in range(0,n):\n",
    "    print (i**2)"
   ]
  },
  {
   "cell_type": "markdown",
   "metadata": {},
   "source": [
    "**3) Дано целое число n.**\n",
    "\n",
    "Не используя строковые методы, попробуйте напечатать следующее:\n",
    "\n",
    "<code>123.....n</code>\n",
    "\n",
    "Обратите внимание, что <code> ... </code> представляет значения между ними."
   ]
  },
  {
   "cell_type": "code",
   "execution_count": 14,
   "metadata": {},
   "outputs": [
    {
     "name": "stdout",
     "output_type": "stream",
     "text": [
      "4\n",
      "1234"
     ]
    }
   ],
   "source": [
    "#Код\n",
    "n = int(input())\n",
    "i=1\n",
    "while i<=n:\n",
    "    print(i,end=\"\")\n",
    "    i=i+1\n",
    "        \n",
    "        "
   ]
  },
  {
   "cell_type": "markdown",
   "metadata": {},
   "source": [
    "**4) Какова сумма первых 10 натуральных чисел?**"
   ]
  },
  {
   "cell_type": "code",
   "execution_count": 24,
   "metadata": {},
   "outputs": [
    {
     "name": "stdout",
     "output_type": "stream",
     "text": [
      "55\n"
     ]
    }
   ],
   "source": [
    "#Код\n",
    "i=1\n",
    "summ=0\n",
    "for i in range(1,11):\n",
    "    summ=summ+i\n",
    "print(summ)"
   ]
  },
  {
   "cell_type": "markdown",
   "metadata": {},
   "source": [
    "**5) Напишите программу на Python, которая принимает радиус круга от пользователя и вычисляет площадь.**\n",
    "\n",
    "**Tip**: <code>from math import pi</code>"
   ]
  },
  {
   "cell_type": "code",
   "execution_count": 28,
   "metadata": {},
   "outputs": [
    {
     "name": "stdout",
     "output_type": "stream",
     "text": [
      "2\n",
      "12.566370614359172\n"
     ]
    }
   ],
   "source": [
    "#Код\n",
    "import math \n",
    "r=int(input())\n",
    "s= math.pi * r**2\n",
    "print(s)"
   ]
  },
  {
   "cell_type": "markdown",
   "metadata": {},
   "source": [
    "**6)  Напишите программу на Python, чтобы получить объем сферы с радиусом 7.**"
   ]
  },
  {
   "cell_type": "code",
   "execution_count": 31,
   "metadata": {},
   "outputs": [
    {
     "name": "stdout",
     "output_type": "stream",
     "text": [
      "1436.7550402417319\n"
     ]
    }
   ],
   "source": [
    "#Код\n",
    "import math \n",
    "r=7\n",
    "v= (4/3) * math.pi* r**3\n",
    "print(v)"
   ]
  },
  {
   "cell_type": "markdown",
   "metadata": {},
   "source": [
    "**7) Напишите программу на Python, которая принимает целое число n и вычисляет значение n + nn + nnn. (nn-двузначное число)**"
   ]
  },
  {
   "cell_type": "code",
   "execution_count": 46,
   "metadata": {},
   "outputs": [
    {
     "name": "stdout",
     "output_type": "stream",
     "text": [
      "7\n",
      "861\n"
     ]
    }
   ],
   "source": [
    "a = int(input(\"\"))\n",
    "n1 = int( \"%s\" % a )\n",
    "n2 = int( \"%s%s\" % (a,a) )\n",
    "n3 = int( \"%s%s%s\" %(a,a,a) )\n",
    "print (n1+n2+n3)"
   ]
  },
  {
   "cell_type": "markdown",
   "metadata": {},
   "source": [
    "**8) Напишите программу на Python, которая примет основание и высоту треугольника и вычислит площадь.**"
   ]
  },
  {
   "cell_type": "code",
   "execution_count": 38,
   "metadata": {},
   "outputs": [
    {
     "name": "stdout",
     "output_type": "stream",
     "text": [
      "Основание: 3\n",
      "Высота:4\n",
      "Площадь: 6.0\n"
     ]
    }
   ],
   "source": [
    "#Код\n",
    "a=int(input(\"Основание: \"))\n",
    "h=int(input(\"Высота:\"))\n",
    "s=0.5*a*h\n",
    "print(\"Площадь:\", s)\n"
   ]
  },
  {
   "cell_type": "markdown",
   "metadata": {},
   "source": [
    "**9) Напишите программу на Python для преобразования высоты (в футах и дюймах) в сантиметры.**"
   ]
  },
  {
   "cell_type": "code",
   "execution_count": 48,
   "metadata": {},
   "outputs": [
    {
     "name": "stdout",
     "output_type": "stream",
     "text": [
      "Фунты5\n",
      "дюймы3\n",
      "дюймы: 12.7\n",
      "фунты:  90 48\n"
     ]
    }
   ],
   "source": [
    "#Код\n",
    "h=int(input(\"Фунты\"))\n",
    "h1=int(input(\"дюймы\"))\n",
    "print(\"дюймы:\", h*2.54)\n",
    "print(\"фунты: \", h1*30,48)"
   ]
  },
  {
   "cell_type": "markdown",
   "metadata": {},
   "source": [
    "**10) Напишите программу на Python для вычисления расстояния между точками (x1, y1) и (x2, y2).**"
   ]
  },
  {
   "cell_type": "code",
   "execution_count": 54,
   "metadata": {},
   "outputs": [
    {
     "name": "stdout",
     "output_type": "stream",
     "text": [
      "Enter x1,y1: 5 6 \n",
      "Enter x2,y2: 1 2\n",
      "1.4142135623730951\n"
     ]
    }
   ],
   "source": [
    "#Код\n",
    "from math import sqrt\n",
    "x1,x2=[int(x) for x in input(\"Enter x1,y1: \").split()]\n",
    "y1,y2 = [int(x) for x in input(\"Enter x2,y2: \").split()]\n",
    "print(sqrt((int(x2)-int(x1))**2+(int(y2)-int(y1))**2))"
   ]
  },
  {
   "cell_type": "markdown",
   "metadata": {},
   "source": [
    "**11) Напишите программу на Python для вычисления гипотенузы прямоугольного треугольника.**"
   ]
  },
  {
   "cell_type": "code",
   "execution_count": 59,
   "metadata": {},
   "outputs": [
    {
     "name": "stdout",
     "output_type": "stream",
     "text": [
      "a,b: 2 4\n",
      "4.47213595499958\n"
     ]
    }
   ],
   "source": [
    "#Код\n",
    "from math import sqrt\n",
    "a,b=[int(x) for x in input(\"a,b: \").split()]\n",
    "print(sqrt(int(a)**2+int(b)**2))"
   ]
  },
  {
   "cell_type": "markdown",
   "metadata": {},
   "source": [
    "**12) Сколько натуральных чисел не больше 100 делиться на 7 и на 2?**"
   ]
  },
  {
   "cell_type": "code",
   "execution_count": 57,
   "metadata": {},
   "outputs": [
    {
     "name": "stdout",
     "output_type": "stream",
     "text": [
      "7\n"
     ]
    }
   ],
   "source": [
    "#Код\n",
    "n=0\n",
    "for i in range(1,100):\n",
    "    if i%7==0 and i%2==0:\n",
    "        n=n+1\n",
    "print(n)"
   ]
  },
  {
   "cell_type": "markdown",
   "metadata": {},
   "source": [
    "# Прекрасная работа!"
   ]
  }
 ],
 "metadata": {
  "kernelspec": {
   "display_name": "Python 3 (ipykernel)",
   "language": "python",
   "name": "python3"
  },
  "language_info": {
   "codemirror_mode": {
    "name": "ipython",
    "version": 3
   },
   "file_extension": ".py",
   "mimetype": "text/x-python",
   "name": "python",
   "nbconvert_exporter": "python",
   "pygments_lexer": "ipython3",
   "version": "3.9.13"
  }
 },
 "nbformat": 4,
 "nbformat_minor": 2
}
