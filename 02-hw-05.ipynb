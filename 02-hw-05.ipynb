{
 "cells": [
  {
   "cell_type": "markdown",
   "metadata": {},
   "source": [
    "### NumPy: Введение (Часть 1) [Домашнее задание]"
   ]
  },
  {
   "cell_type": "markdown",
   "metadata": {},
   "source": [
    "### Задания:\n",
    "\n",
    "1. Установите пакет NumPy с помощью pip.\n",
    "\n",
    "2. Пожалуйста, импортируйте пакет NumPy"
   ]
  },
  {
   "cell_type": "code",
   "execution_count": 1,
   "metadata": {},
   "outputs": [
    {
     "name": "stdout",
     "output_type": "stream",
     "text": [
      "1.21.5\n"
     ]
    }
   ],
   "source": [
    "# Начало вашего кода\n",
    "import numpy as np\n",
    "# Конец вашего кода\n",
    "print(np.__version__)"
   ]
  },
  {
   "cell_type": "markdown",
   "metadata": {},
   "source": [
    "### Ожидаемый результат\n",
    "```\n",
    "1.17.4\n",
    "```"
   ]
  },
  {
   "cell_type": "markdown",
   "metadata": {},
   "source": [
    "3. Создайте одномерный numpy.ndarray even_np, в котором он содержит четные числа только от 0 до 10."
   ]
  },
  {
   "cell_type": "code",
   "execution_count": 2,
   "metadata": {},
   "outputs": [
    {
     "name": "stdout",
     "output_type": "stream",
     "text": [
      "[ 0  2  4  6  8 10]\n"
     ]
    }
   ],
   "source": [
    "# Начало вашего кода\n",
    "even_np = np.arange(0, 11, 2)\n",
    "# Конец вашего кода\n",
    "print(even_np)"
   ]
  },
  {
   "cell_type": "markdown",
   "metadata": {},
   "source": [
    "### Ожидаемый результат\n",
    "```\n",
    "[ 0  2  4  6  8 10]\n",
    "```"
   ]
  },
  {
   "cell_type": "markdown",
   "metadata": {},
   "source": [
    "4. Пожалуйста, проверьте все важные атрибуты (упомянутые в видео-лекции) для numpy.ndarray even_np и распечатайте их."
   ]
  },
  {
   "cell_type": "code",
   "execution_count": 3,
   "metadata": {},
   "outputs": [
    {
     "name": "stdout",
     "output_type": "stream",
     "text": [
      "1\n",
      "(6,)\n",
      "6\n",
      "int32\n",
      "[ 0  2  4  6  8 10]\n"
     ]
    }
   ],
   "source": [
    "# Начало вашего кода\n",
    "even_np = np.arange(0, 11, 2)\n",
    "print(even_np.ndim)  \n",
    "print(even_np.shape) \n",
    "print(even_np.size)\n",
    "print(even_np.dtype)  \n",
    "print(even_np) \n",
    "# Конец вашего кода"
   ]
  },
  {
   "cell_type": "markdown",
   "metadata": {},
   "source": [
    "### Ожидаемый результат\n",
    "```\n",
    "1\n",
    "(6,)\n",
    "6\n",
    "int64\n",
    "[ 0  2  4  6  8 10]\n",
    "```"
   ]
  },
  {
   "cell_type": "markdown",
   "metadata": {},
   "source": [
    "5. Создайте одномерный numpy.ndarray odd_np, в котором он содержит не четные числа только от 10 до 20, и тип элементов должен быть **комплексными числами.**"
   ]
  },
  {
   "cell_type": "code",
   "execution_count": 4,
   "metadata": {},
   "outputs": [
    {
     "name": "stdout",
     "output_type": "stream",
     "text": [
      "[11.+0.j 13.+0.j 15.+0.j 17.+0.j 19.+0.j]\n"
     ]
    },
    {
     "name": "stderr",
     "output_type": "stream",
     "text": [
      "C:\\Users\\iskan\\AppData\\Local\\Temp\\ipykernel_13108\\677955500.py:2: DeprecationWarning: `np.complex` is a deprecated alias for the builtin `complex`. To silence this warning, use `complex` by itself. Doing this will not modify any behavior and is safe. If you specifically wanted the numpy scalar type, use `np.complex128` here.\n",
      "Deprecated in NumPy 1.20; for more details and guidance: https://numpy.org/devdocs/release/1.20.0-notes.html#deprecations\n",
      "  odd_np = np.arange(11, 20, 2, dtype=np.complex)\n"
     ]
    }
   ],
   "source": [
    "# Начало вашего кода\n",
    "odd_np = np.arange(11, 20, 2, dtype=np.complex)\n",
    "# Конец вашего кода\n",
    "print(odd_np)"
   ]
  },
  {
   "cell_type": "markdown",
   "metadata": {},
   "source": [
    "### Ожидаемый результат\n",
    "```\n",
    "[11.+0.j 13.+0.j 15.+0.j 17.+0.j 19.+0.j]\n",
    "```"
   ]
  },
  {
   "cell_type": "markdown",
   "metadata": {},
   "source": [
    "6. Пожалуйста, проверьте все важные атрибуты (упомянутые в видео-лекции) для numpy.ndarray odd_np и распечатайте их."
   ]
  },
  {
   "cell_type": "code",
   "execution_count": 6,
   "metadata": {},
   "outputs": [
    {
     "name": "stdout",
     "output_type": "stream",
     "text": [
      "1\n",
      "(5,)\n",
      "5\n",
      "complex128\n",
      "[11.+0.j 13.+0.j 15.+0.j 17.+0.j 19.+0.j]\n"
     ]
    },
    {
     "name": "stderr",
     "output_type": "stream",
     "text": [
      "C:\\Users\\iskan\\AppData\\Local\\Temp\\ipykernel_13108\\1370006576.py:2: DeprecationWarning: `np.complex` is a deprecated alias for the builtin `complex`. To silence this warning, use `complex` by itself. Doing this will not modify any behavior and is safe. If you specifically wanted the numpy scalar type, use `np.complex128` here.\n",
      "Deprecated in NumPy 1.20; for more details and guidance: https://numpy.org/devdocs/release/1.20.0-notes.html#deprecations\n",
      "  odd_np = np.arange(11, 20, 2, dtype=np.complex)\n"
     ]
    }
   ],
   "source": [
    "# Начало вашего кода\n",
    "odd_np = np.arange(11, 20, 2, dtype=np.complex)\n",
    "print(odd_np.ndim)  \n",
    "print(odd_np.shape) \n",
    "print(odd_np.size) \n",
    "print(odd_np.dtype)  \n",
    "print(odd_np)\n",
    "# Конец вашего кода"
   ]
  },
  {
   "cell_type": "markdown",
   "metadata": {},
   "source": [
    "### Ожидаемый результат\n",
    "```\n",
    "1\n",
    "(5,)\n",
    "5\n",
    "complex128\n",
    "[11.+0.j 13.+0.j 15.+0.j 17.+0.j 19.+0.j]\n",
    "```"
   ]
  },
  {
   "cell_type": "markdown",
   "metadata": {},
   "source": [
    "# Прекрасная работа!"
   ]
  }
 ],
 "metadata": {
  "kernelspec": {
   "display_name": "Python 3 (ipykernel)",
   "language": "python",
   "name": "python3"
  },
  "language_info": {
   "codemirror_mode": {
    "name": "ipython",
    "version": 3
   },
   "file_extension": ".py",
   "mimetype": "text/x-python",
   "name": "python",
   "nbconvert_exporter": "python",
   "pygments_lexer": "ipython3",
   "version": "3.9.13"
  }
 },
 "nbformat": 4,
 "nbformat_minor": 2
}
