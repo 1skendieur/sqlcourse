{
 "cells": [
  {
   "cell_type": "code",
   "execution_count": 2,
   "id": "80d36d0e",
   "metadata": {},
   "outputs": [
    {
     "name": "stdout",
     "output_type": "stream",
     "text": [
      "astana\n"
     ]
    }
   ],
   "source": [
    "n=6\n",
    "\n",
    "if n/2 != 0:\n",
    "    print(\"astana\")\n",
    "elif n/2 == 0 and n>2 and n<5:\n",
    "    print(\"Almaty\")"
   ]
  },
  {
   "cell_type": "code",
   "execution_count": null,
   "id": "c531c14b",
   "metadata": {},
   "outputs": [],
   "source": []
  }
 ],
 "metadata": {
  "kernelspec": {
   "display_name": "Python 3 (ipykernel)",
   "language": "python",
   "name": "python3"
  },
  "language_info": {
   "codemirror_mode": {
    "name": "ipython",
    "version": 3
   },
   "file_extension": ".py",
   "mimetype": "text/x-python",
   "name": "python",
   "nbconvert_exporter": "python",
   "pygments_lexer": "ipython3",
   "version": "3.9.13"
  }
 },
 "nbformat": 4,
 "nbformat_minor": 5
}
