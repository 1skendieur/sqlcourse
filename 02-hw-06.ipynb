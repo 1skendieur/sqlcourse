{
 "cells": [
  {
   "cell_type": "markdown",
   "metadata": {},
   "source": [
    "### NumPy: Введение (Часть 2) [Домашнее задание]\n",
    "\n",
    "> **Пожалуйста, избегайте использования одномерных массивов numpy.ndarray.**\n",
    "> **Пишите код только там, где это показано для записи. Не удаляйте комментарии!**"
   ]
  },
  {
   "cell_type": "markdown",
   "metadata": {},
   "source": [
    "1. Импортируйте пакет NumPy"
   ]
  },
  {
   "cell_type": "code",
   "execution_count": 1,
   "metadata": {},
   "outputs": [
    {
     "name": "stdout",
     "output_type": "stream",
     "text": [
      "1.21.5\n"
     ]
    }
   ],
   "source": [
    "# Начало вашего кода\n",
    "import numpy as np\n",
    "# Конец вашего кода\n",
    "print(np.__version__)"
   ]
  },
  {
   "cell_type": "markdown",
   "metadata": {},
   "source": [
    "### Ожидаемый результат\n",
    "```\n",
    "1.17.4\n",
    "```"
   ]
  },
  {
   "cell_type": "markdown",
   "metadata": {},
   "source": [
    "2. Создайте двумерный numpy.ndarray **numbers**, где первая строка содержит четные числа от 0 до 10, а вторая строка содержит нечетные числа от 0 до 10 (10 не учитывается в обоих случаях)."
   ]
  },
  {
   "cell_type": "code",
   "execution_count": 2,
   "metadata": {},
   "outputs": [
    {
     "name": "stdout",
     "output_type": "stream",
     "text": [
      "[[0 2 4 6 8]\n",
      " [1 3 5 7 9]]\n"
     ]
    }
   ],
   "source": [
    "# Начало вашего кода\n",
    "even_numbers = np.arange(0, 10, 2)\n",
    "odd_numbers = np.arange(1, 10, 2) \n",
    "numbers = np.vstack([even_numbers, odd_numbers])\n",
    "# Конец вашего кода\n",
    "print(numbers)"
   ]
  },
  {
   "cell_type": "markdown",
   "metadata": {},
   "source": [
    "### Ожидаемый результат\n",
    "```\n",
    "[[0 2 4 6 8]\n",
    " [1 3 5 7 9]]\n",
    "```"
   ]
  },
  {
   "cell_type": "markdown",
   "metadata": {},
   "source": [
    "3. Пожалуйста, проверьте все важные атрибуты (упомянутые в видео-лекции) для numpy.ndarray even_np и распечатайте их."
   ]
  },
  {
   "cell_type": "code",
   "execution_count": 17,
   "metadata": {},
   "outputs": [
    {
     "name": "stdout",
     "output_type": "stream",
     "text": [
      "2\n",
      "(2, 5)\n",
      "10\n",
      "int32\n",
      "[[0 2 4 6 8]\n",
      " [1 3 5 7 9]]\n"
     ]
    }
   ],
   "source": [
    "# Начало вашего кода\n",
    "numbers = numbers.T\n",
    "print(numbers.ndim)  \n",
    "print(numbers.shape) \n",
    "print(numbers.size)  \n",
    "print(numbers.dtype)  \n",
    "print(numbers)\n",
    "# Конец вашего кода"
   ]
  },
  {
   "cell_type": "markdown",
   "metadata": {},
   "source": [
    "### Ожидаемый результат\n",
    "```\n",
    "2\n",
    "(2, 5)\n",
    "10\n",
    "int64\n",
    "[[0 1]\n",
    " [2 3]\n",
    " [4 5]\n",
    " [6 7]\n",
    " [8 9]]\n",
    "```"
   ]
  },
  {
   "cell_type": "markdown",
   "metadata": {},
   "source": [
    "4. Найдите максимальное, минимальное, среднее, стандартное отклонение, используя методы numpy.ndarray."
   ]
  },
  {
   "cell_type": "code",
   "execution_count": 18,
   "metadata": {},
   "outputs": [
    {
     "name": "stdout",
     "output_type": "stream",
     "text": [
      "9\n",
      "0\n",
      "4.5\n",
      "2.8722813232690143\n"
     ]
    }
   ],
   "source": [
    "# Начало вашего кода\n",
    "overall_max = np.max(numbers)  \n",
    "overall_min = np.min(numbers) \n",
    "overall_mean = np.mean(numbers) \n",
    "overall_std = np.std(numbers)\n",
    "# Конец вашего кода\n",
    "print(overall_max)\n",
    "print(overall_min)\n",
    "print(overall_mean)\n",
    "print(overall_std)"
   ]
  },
  {
   "cell_type": "markdown",
   "metadata": {},
   "source": [
    "### Ожидаемый результат\n",
    "```\n",
    "9\n",
    "0\n",
    "4.5\n",
    "2.8722813232690143\n",
    "```"
   ]
  },
  {
   "cell_type": "markdown",
   "metadata": {},
   "source": [
    "5. Найдите максимальное, минимальное, среднее, стандартное отклонение, используя методы numpy.ndarray для каждого **столбца**."
   ]
  },
  {
   "cell_type": "code",
   "execution_count": 19,
   "metadata": {},
   "outputs": [
    {
     "name": "stdout",
     "output_type": "stream",
     "text": [
      "[1 3 5 7 9]\n",
      "[0 2 4 6 8]\n",
      "[0.5 2.5 4.5 6.5 8.5]\n",
      "[0.5 0.5 0.5 0.5 0.5]\n"
     ]
    }
   ],
   "source": [
    "# Начало вашего кода\n",
    "col_max = np.max(numbers, axis=0)  \n",
    "col_min = np.min(numbers, axis=0)\n",
    "col_mean = np.mean(numbers, axis=0)  \n",
    "col_std = np.std(numbers, axis=0)  \n",
    "\n",
    "# Конец вашего кода\n",
    "print(col_max)\n",
    "print(col_min)\n",
    "print(col_mean)\n",
    "print(col_std)"
   ]
  },
  {
   "cell_type": "markdown",
   "metadata": {},
   "source": [
    "### Ожидаемый результат\n",
    "```\n",
    "[[1 3 5 7 9]]\n",
    "[[0 2 4 6 8]]\n",
    "[[0.5 2.5 4.5 6.5 8.5]]\n",
    "[[0.5 0.5 0.5 0.5 0.5]]\n",
    "```"
   ]
  },
  {
   "cell_type": "markdown",
   "metadata": {},
   "source": [
    "6. Найдите максимальное, минимальное, среднее, стандартное отклонение, используя методы numpy.ndarray для каждой **строки**."
   ]
  },
  {
   "cell_type": "code",
   "execution_count": 20,
   "metadata": {},
   "outputs": [
    {
     "name": "stdout",
     "output_type": "stream",
     "text": [
      "[[8]\n",
      " [9]]\n",
      "[[0]\n",
      " [1]]\n",
      "[[4.]\n",
      " [5.]]\n",
      "[[2.82842712]\n",
      " [2.82842712]]\n"
     ]
    }
   ],
   "source": [
    "# Начало вашего кода\n",
    "row_max = np.max(numbers, axis=1, keepdims=True)  \n",
    "row_min = np.min(numbers, axis=1, keepdims=True)  \n",
    "row_mean = np.mean(numbers, axis=1, keepdims=True)  \n",
    "row_std = np.std(numbers, axis=1, keepdims=True)\n",
    "# Конец вашего кода\n",
    "print(row_max)\n",
    "print(row_min)\n",
    "print(row_mean)\n",
    "print(row_std)"
   ]
  },
  {
   "cell_type": "markdown",
   "metadata": {},
   "source": [
    "### Ожидаемый результат\n",
    "```\n",
    "[[8]\n",
    " [9]]\n",
    "[[0]\n",
    " [1]]\n",
    "[[4.]\n",
    " [5.]]\n",
    "[[2.82842712]\n",
    " [2.82842712]]\n",
    "```"
   ]
  },
  {
   "cell_type": "markdown",
   "metadata": {},
   "source": [
    "7. Создайте объект numpy.ndarray из списка list_of_lists, приведенного ниже. Кроме того, рассчитать среднее значение и стандартное отклонение по всем осям."
   ]
  },
  {
   "cell_type": "code",
   "execution_count": 21,
   "metadata": {},
   "outputs": [
    {
     "name": "stdout",
     "output_type": "stream",
     "text": [
      "[[[ 1  2]\n",
      "  [ 3  4]]\n",
      "\n",
      " [[21 22]\n",
      "  [23 24]]]\n"
     ]
    }
   ],
   "source": [
    "list_of_lists = [[[1,2],[3,4]],[[21,22],[23,24]]]\n",
    "# Начало вашего кода\n",
    "thd_nparr = np.array(list_of_lists)\n",
    "# Конец вашего кода\n",
    "print(thd_nparr)"
   ]
  },
  {
   "cell_type": "markdown",
   "metadata": {},
   "source": [
    "### Ожидаемый результат\n",
    "```\n",
    "[[[ 1  2]\n",
    "  [ 3  4]]\n",
    "\n",
    " [[21 22]\n",
    "  [23 24]]]\n",
    "```"
   ]
  },
  {
   "cell_type": "code",
   "execution_count": 24,
   "metadata": {},
   "outputs": [
    {
     "name": "stdout",
     "output_type": "stream",
     "text": [
      "Mean with respect to 0-axis\n",
      "[[11. 12.]\n",
      " [13. 14.]]\n",
      "STD with respect to 0-axis\n",
      "[[10. 10.]\n",
      " [10. 10.]]\n",
      "\n",
      "Mean with respect to 1-axis\n",
      "[[ 2.  3.]\n",
      " [22. 23.]]\n",
      "STD with respect to 1-axis\n",
      "[[1. 1.]\n",
      " [1. 1.]]\n",
      "\n",
      "Mean with respect to 2-axis\n",
      "[[ 1.5  3.5]\n",
      " [21.5 23.5]]\n",
      "STD with respect to 2-axis\n",
      "[[0.5 0.5]\n",
      " [0.5 0.5]]\n"
     ]
    }
   ],
   "source": [
    "mean_axis_0 = np.mean(thd_nparr, axis=0)\n",
    "std_axis_0 = np.std(thd_nparr, axis=0)\n",
    "\n",
    "mean_axis_1 = np.mean(thd_nparr, axis=1)\n",
    "std_axis_1 = np.std(thd_nparr, axis=1)\n",
    "\n",
    "mean_axis_2 = np.mean(thd_nparr, axis=2)\n",
    "std_axis_2 = np.std(thd_nparr, axis=2)\n",
    "\n",
    "print(\"Mean with respect to 0-axis\")\n",
    "print(mean_axis_0)\n",
    "print(\"STD with respect to 0-axis\")\n",
    "print(std_axis_0)\n",
    "\n",
    "print(\"\\nMean with respect to 1-axis\")\n",
    "print(mean_axis_1)\n",
    "print(\"STD with respect to 1-axis\")\n",
    "print(std_axis_1)\n",
    "\n",
    "print(\"\\nMean with respect to 2-axis\")\n",
    "print(mean_axis_2)\n",
    "print(\"STD with respect to 2-axis\")\n",
    "print(std_axis_2)"
   ]
  },
  {
   "cell_type": "markdown",
   "metadata": {},
   "source": [
    "### Ожидаемый результат\n",
    "```\n",
    "Mean with respect to 0-axis\n",
    "[[[11. 12.]\n",
    "  [13. 14.]]]\n",
    "STD with respect to 0-axis\n",
    "[[[10. 10.]\n",
    "  [10. 10.]]]\n",
    "\n",
    "\n",
    "Mean with respect to 1-axis\n",
    "[[[ 2.  3.]]\n",
    "\n",
    " [[22. 23.]]]\n",
    "STD with respect to 1-axis\n",
    "[[[1. 1.]]\n",
    "\n",
    " [[1. 1.]]]\n",
    "\n",
    "\n",
    "Mean with respect to 2-axis\n",
    "[[[ 1.5]\n",
    "  [ 3.5]]\n",
    "\n",
    " [[21.5]\n",
    "  [23.5]]]\n",
    "STD with respect to 2-axis\n",
    "[[[0.5]\n",
    "  [0.5]]\n",
    "\n",
    " [[0.5]\n",
    "  [0.5]]]\n",
    "```"
   ]
  },
  {
   "cell_type": "markdown",
   "metadata": {},
   "source": [
    "8. Пожалуйста, предоставьте применение следующих методов numpy.ndarray ниже:"
   ]
  },
  {
   "cell_type": "code",
   "execution_count": 26,
   "metadata": {},
   "outputs": [
    {
     "name": "stdout",
     "output_type": "stream",
     "text": [
      "Stock\n",
      "[ 0  1  2  3  4  5  6  7  8  9 10 11]\n",
      "\n",
      "Reshaped:\n",
      "[[ 0  1  2  3]\n",
      " [ 4  5  6  7]\n",
      " [ 8  9 10 11]]\n"
     ]
    }
   ],
   "source": [
    "# ndarray.reshape()\n",
    "# Начало вашего кода\n",
    "arr = np.arange(12)\n",
    "print(\"Stock\")\n",
    "print(arr)\n",
    "\n",
    "reshaped_arr = arr.reshape(3, 4)\n",
    "print(\"\\nReshaped:\")\n",
    "print(reshaped_arr)\n",
    "# Конец вашего кода"
   ]
  },
  {
   "cell_type": "code",
   "execution_count": 27,
   "metadata": {},
   "outputs": [
    {
     "name": "stdout",
     "output_type": "stream",
     "text": [
      "stock:\n",
      "[[1 2 3]\n",
      " [4 5 6]]\n",
      "\n",
      "With ravel():\n",
      "[1 2 3 4 5 6]\n"
     ]
    }
   ],
   "source": [
    "# ndarray.ravel()\n",
    "# Начало вашего кода\n",
    "arr = np.array([[1, 2, 3], [4, 5, 6]])\n",
    "print(\"stock:\")\n",
    "print(arr)\n",
    "\n",
    "# Преобразование в одномерный массив\n",
    "raveled_arr = arr.ravel()\n",
    "print(\"\\nWith ravel():\")\n",
    "print(raveled_arr)\n",
    "# Конец вашего кода"
   ]
  },
  {
   "cell_type": "code",
   "execution_count": 41,
   "metadata": {},
   "outputs": [
    {
     "name": "stdout",
     "output_type": "stream",
     "text": [
      "\n",
      "With tolist():\n",
      "[3, 1, 6, 5, 4]\n"
     ]
    }
   ],
   "source": [
    "# ndarray.tolist()\n",
    "# Начало вашего кода\n",
    "\n",
    "arr_list = arr.tolist()\n",
    "print(\"\\nWith tolist():\")\n",
    "print(arr_list)\n",
    "# Конец вашего кода"
   ]
  },
  {
   "cell_type": "code",
   "execution_count": 42,
   "metadata": {},
   "outputs": [],
   "source": [
    "# ndarray.tofile()\n",
    "# Начало вашего кода\n",
    "\n",
    "file_path = 'array_data.bin'\n",
    "arr.tofile(file_path)\n",
    "# Конец вашего кода"
   ]
  },
  {
   "cell_type": "code",
   "execution_count": 47,
   "metadata": {},
   "outputs": [
    {
     "name": "stdout",
     "output_type": "stream",
     "text": [
      "Отсортированный массив:\n",
      "[1 2 3 4 5]\n"
     ]
    }
   ],
   "source": [
    "# ndarray.sort()\n",
    "# Начало вашего кода\n",
    "arr = np.array([3, 1, 2, 5, 4])\n",
    "arr.sort()\n",
    "print(\"Отсортированный массив:\")\n",
    "print(arr)\n",
    "# Конец вашего кода"
   ]
  },
  {
   "cell_type": "code",
   "execution_count": 48,
   "metadata": {},
   "outputs": [
    {
     "name": "stdout",
     "output_type": "stream",
     "text": [
      "Исходный массив:\n",
      "[[1 2]\n",
      " [3 4]\n",
      " [5 6]]\n",
      "\n",
      "Транспонированный массив:\n",
      "[[1 3 5]\n",
      " [2 4 6]]\n"
     ]
    }
   ],
   "source": [
    "# ndarray.transpose()\n",
    "# Начало вашего кода\n",
    "arr = np.array([[1, 2], [3, 4], [5, 6]])\n",
    "print(\"Исходный массив:\")\n",
    "print(arr)\n",
    "\n",
    "transposed_arr = arr.transpose()\n",
    "print(\"\\nТранспонированный массив:\")\n",
    "print(transposed_arr)\n",
    "# Конец вашего кода"
   ]
  },
  {
   "cell_type": "code",
   "execution_count": 49,
   "metadata": {},
   "outputs": [
    {
     "name": "stdout",
     "output_type": "stream",
     "text": [
      "array:\n",
      "[[1 2 3]\n",
      " [4 5 6]]\n",
      "\n",
      "after flatten():\n",
      "[1 2 3 4 5 6]\n"
     ]
    }
   ],
   "source": [
    "# ndarray.flatten()\n",
    "# Начало вашего кода\n",
    "arr = np.array([[1, 2, 3], [4, 5, 6]])\n",
    "print(\"array:\")\n",
    "print(arr)\n",
    "\n",
    "# Преобразование в одномерный массив\n",
    "flattened_arr = arr.flatten()\n",
    "print(\"\\nafter flatten():\")\n",
    "print(flattened_arr)\n",
    "# Конец вашего кода"
   ]
  },
  {
   "cell_type": "code",
   "execution_count": 52,
   "metadata": {},
   "outputs": [
    {
     "name": "stdout",
     "output_type": "stream",
     "text": [
      "1\n"
     ]
    }
   ],
   "source": [
    "# ndarray.argmin()\n",
    "arr = np.array([3, 1, 6, 5, 4])\n",
    "index_of_min = arr.argmin()\n",
    "print(index_of_min)\n",
    "# Конец вашего кода"
   ]
  },
  {
   "cell_type": "code",
   "execution_count": 38,
   "metadata": {},
   "outputs": [
    {
     "name": "stdout",
     "output_type": "stream",
     "text": [
      "2\n"
     ]
    }
   ],
   "source": [
    "# ndarray.argmax()\n",
    "# Начало вашего кода\n",
    "index_of_max = arr.argmax()\n",
    "print(index_of_max)\n",
    "# Конец вашего кода"
   ]
  },
  {
   "cell_type": "code",
   "execution_count": 55,
   "metadata": {},
   "outputs": [
    {
     "name": "stdout",
     "output_type": "stream",
     "text": [
      "[ 3  4 10 15 19]\n"
     ]
    }
   ],
   "source": [
    "# ndarray.cumsum()\n",
    "# Начало вашего кода\n",
    "cumulative_sum = arr.cumsum()\n",
    "print( cumulative_sum)\n",
    "# Конец вашего кода"
   ]
  },
  {
   "cell_type": "code",
   "execution_count": 56,
   "metadata": {},
   "outputs": [
    {
     "name": "stdout",
     "output_type": "stream",
     "text": [
      "[  3   3  18  90 360]\n"
     ]
    }
   ],
   "source": [
    "# ndarray.cumprod()\n",
    "# Начало вашего кода\n",
    "cumulative_product = arr.cumprod()\n",
    "print(cumulative_product)\n",
    "# Конец вашего кода"
   ]
  },
  {
   "cell_type": "code",
   "execution_count": 58,
   "metadata": {},
   "outputs": [
    {
     "name": "stdout",
     "output_type": "stream",
     "text": [
      "[[19 22]\n",
      " [43 50]]\n"
     ]
    }
   ],
   "source": [
    "# ndarray.dot()\n",
    "# Начало вашего кода\n",
    "a = np.array([[1, 2], [3, 4]])\n",
    "b = np.array([[5, 6], [7, 8]])\n",
    "\n",
    "# Выполнение умножения матриц\n",
    "result = a.dot(b)\n",
    "print(result)\n",
    "# Конец вашего кода"
   ]
  },
  {
   "cell_type": "code",
   "execution_count": 59,
   "metadata": {},
   "outputs": [
    {
     "name": "stdout",
     "output_type": "stream",
     "text": [
      "[1 2 3]\n"
     ]
    }
   ],
   "source": [
    "# ndarray.squeeze()\n",
    "# Начало вашего кода\n",
    "arr = np.array([[[1], [2], [3]]])\n",
    "squeezed_arr = arr.squeeze()\n",
    "print(squeezed_arr)\n",
    "# Конец вашего кода"
   ]
  },
  {
   "cell_type": "code",
   "execution_count": 60,
   "metadata": {},
   "outputs": [
    {
     "name": "stdout",
     "output_type": "stream",
     "text": [
      "[1 1 1 2 2 2 3 3 3]\n"
     ]
    }
   ],
   "source": [
    "# ndarray.repeat()\n",
    "# Начало вашего кода\n",
    "arr = np.array([1, 2, 3])\n",
    "repeated_arr = arr.repeat(3)\n",
    "print(repeated_arr)\n",
    "# Конец вашего кода"
   ]
  },
  {
   "cell_type": "markdown",
   "metadata": {},
   "source": [
    "# Прекрасная работа!"
   ]
  }
 ],
 "metadata": {
  "kernelspec": {
   "display_name": "Python 3 (ipykernel)",
   "language": "python",
   "name": "python3"
  },
  "language_info": {
   "codemirror_mode": {
    "name": "ipython",
    "version": 3
   },
   "file_extension": ".py",
   "mimetype": "text/x-python",
   "name": "python",
   "nbconvert_exporter": "python",
   "pygments_lexer": "ipython3",
   "version": "3.9.13"
  }
 },
 "nbformat": 4,
 "nbformat_minor": 2
}
