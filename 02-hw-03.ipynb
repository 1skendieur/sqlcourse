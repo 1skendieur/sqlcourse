{
 "cells": [
  {
   "cell_type": "markdown",
   "metadata": {},
   "source": [
    "### Разбор времени и даты [Домашнее задание]"
   ]
  },
  {
   "cell_type": "markdown",
   "metadata": {},
   "source": [
    "### Задания:\n",
    "\n",
    "1. Загрузите данные из следующего CSV-файла **\"scrubbed.csv\"** (который прикреплен к видео)\n",
    "\n",
    "2. Найдите, какой из столбцов содержит информацию о дате и времени.\n",
    "\n",
    "3. Измените дату и время в столбце на следующее: '10/10/1949 20:30' -> 'October 10 of 1949 at 08:30 PM'\n",
    "\n",
    "4. Сохраните данные с обновленным форматом даты и времени в новый файл в формате csv **\"format_scrubbed.csv\"**\n",
    "\n"
   ]
  },
  {
   "cell_type": "code",
   "execution_count": 3,
   "metadata": {},
   "outputs": [],
   "source": [
    "import csv\n",
    "from datetime import datetime\n",
    "\n",
    "def format_datetime(datetime_str):\n",
    "    try:\n",
    "        datetime_value = datetime.strptime(datetime_str, '%m/%d/%Y %H:%M')\n",
    "        return datetime_value.strftime('%B %d of %Y at %I:%M %p')\n",
    "    except ValueError:\n",
    "        return datetime_str\n",
    "with open('scrubbed.csv', 'r', newline='', encoding='utf-8') as file_in:\n",
    "    reader = csv.DictReader(file_in)\n",
    "    rows = []\n",
    "    \n",
    "    for row in reader:\n",
    "        row = {key.strip(): value for key, value in row.items()}\n",
    "        row['datetime'] = format_datetime(row['datetime'])\n",
    "        row['date posted'] = format_datetime(row['date posted'])\n",
    "        rows.append(row)\n",
    "fieldnames = ['datetime', 'city', 'state', 'country', 'shape', 'duration (seconds)',\n",
    "              'duration (hours/min)', 'comments', 'date posted', 'latitude', 'longitude']\n",
    "with open('format_scrubbed.csv', 'w', newline='', encoding='utf-8') as file_out:\n",
    "    writer = csv.DictWriter(file_out, fieldnames=fieldnames)\n",
    "    writer.writeheader()\n",
    "    writer.writerows(rows)\n"
   ]
  },
  {
   "cell_type": "code",
   "execution_count": null,
   "metadata": {},
   "outputs": [],
   "source": []
  }
 ],
 "metadata": {
  "kernelspec": {
   "display_name": "Python 3 (ipykernel)",
   "language": "python",
   "name": "python3"
  },
  "language_info": {
   "codemirror_mode": {
    "name": "ipython",
    "version": 3
   },
   "file_extension": ".py",
   "mimetype": "text/x-python",
   "name": "python",
   "nbconvert_exporter": "python",
   "pygments_lexer": "ipython3",
   "version": "3.9.13"
  }
 },
 "nbformat": 4,
 "nbformat_minor": 2
}
