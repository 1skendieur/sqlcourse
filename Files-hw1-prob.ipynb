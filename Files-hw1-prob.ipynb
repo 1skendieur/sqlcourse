{
 "cells": [
  {
   "cell_type": "markdown",
   "metadata": {},
   "source": [
    "### Файлы: Введение [Домашнее задание]"
   ]
  },
  {
   "cell_type": "markdown",
   "metadata": {},
   "source": [
    "Пожалуйста, создайте новый файл и напишите в нем текст (с несколькими строками более 5).\n",
    "Закройте файл. \n",
    "\n",
    "Откройте файл в разных режимах и поиграйте с ним. Проверьте все возможные ограничения."
   ]
  },
  {
   "cell_type": "code",
   "execution_count": 4,
   "metadata": {},
   "outputs": [],
   "source": [
    "file = open(\"new_file.txt\",\"w\")\n",
    "# Напишите свой код здесь:\n",
    "with open(\"new_file.txt\", \"w\") as file:\n",
    "    file.write(\"First\\n\")\n",
    "    file.write(\"Second\\n\")\n",
    "    file.write(\"Third\\n\")\n",
    "    file.write(\"Fourth\\n\")\n",
    "    file.write(\"Final\\n\")\n",
    "\n",
    "# конец вашего кода\n",
    "file.close()"
   ]
  },
  {
   "cell_type": "code",
   "execution_count": 5,
   "metadata": {
    "scrolled": true
   },
   "outputs": [
    {
     "name": "stdout",
     "output_type": "stream",
     "text": [
      "Reading mode:\n",
      "First\n",
      "Second\n",
      "Third\n",
      "Fourth\n",
      "\n"
     ]
    }
   ],
   "source": [
    "file = open(\"new_file.txt\",\"r\")\n",
    "# Напишите свой код здесь:\n",
    "with open(\"new_file.txt\", \"r\") as file:\n",
    "    content = file.read()\n",
    "    print(\"Reading mode:\")\n",
    "    print(content)\n",
    "\n",
    "# конец вашего кода\n",
    "file.close()"
   ]
  },
  {
   "cell_type": "code",
   "execution_count": 6,
   "metadata": {},
   "outputs": [],
   "source": [
    "file = open(\"new_file.txt\",\"a\")\n",
    "# Напишите свой код здесь:\n",
    "with open(\"new_file.txt\", \"a\") as file:\n",
    "    file.write(\"Dop line\\n\")\n",
    "\n",
    "# Попытка записи в файл только для чтения (r+)\n",
    "try:\n",
    "    with open(\"new_file.txt\", \"r+\") as file:\n",
    "        file.write(\"Only reading availabe (r+)\")\n",
    "except Exception as e:\n",
    "    print(\"\\nError:\", e)\n",
    "# конец вашего кода\n",
    "file.close()"
   ]
  },
  {
   "cell_type": "code",
   "execution_count": null,
   "metadata": {},
   "outputs": [],
   "source": []
  }
 ],
 "metadata": {
  "kernelspec": {
   "display_name": "Python 3 (ipykernel)",
   "language": "python",
   "name": "python3"
  },
  "language_info": {
   "codemirror_mode": {
    "name": "ipython",
    "version": 3
   },
   "file_extension": ".py",
   "mimetype": "text/x-python",
   "name": "python",
   "nbconvert_exporter": "python",
   "pygments_lexer": "ipython3",
   "version": "3.9.13"
  }
 },
 "nbformat": 4,
 "nbformat_minor": 2
}
