{
 "cells": [
  {
   "cell_type": "markdown",
   "metadata": {},
   "source": [
    "**Iskander Manat**"
   ]
  },
  {
   "cell_type": "markdown",
   "metadata": {},
   "source": [
    "# СТРОКИ"
   ]
  },
  {
   "cell_type": "markdown",
   "metadata": {},
   "source": [
    "1) Учитывая строку \"Able\", дайте команду index, которая возвращает 'e'. Введите свой код в ячейку ниже:"
   ]
  },
  {
   "cell_type": "code",
   "execution_count": 6,
   "metadata": {},
   "outputs": [
    {
     "name": "stdout",
     "output_type": "stream",
     "text": [
      "3\n",
      "9\n",
      "e\n"
     ]
    }
   ],
   "source": [
    "s = \"Able Academy\"\n",
    "# Распечатайте «е» с использованием индексирование\n",
    "for index in range(len(s)): # 0, 1, 2, 3\n",
    "    if s[index] == \"e\":\n",
    "        print(index)\n",
    "\n",
    "index = s.index('e')  \n",
    "e_character = s[index]\n",
    "print(e_character)"
   ]
  },
  {
   "cell_type": "markdown",
   "metadata": {},
   "source": [
    "2) Переверните строку \"Able\""
   ]
  },
  {
   "cell_type": "code",
   "execution_count": 7,
   "metadata": {},
   "outputs": [
    {
     "name": "stdout",
     "output_type": "stream",
     "text": [
      "elbA\n"
     ]
    }
   ],
   "source": [
    "s = \"Able\"\n",
    "# Переверните строку \"Able\"\n",
    "reversed_s = s[::-1]\n",
    "\n",
    "print(reversed_s)"
   ]
  },
  {
   "cell_type": "markdown",
   "metadata": {},
   "source": [
    "3) Учитывая строку \"Able\", приведите два метода получения буквы 'l' с использованием индексации."
   ]
  },
  {
   "cell_type": "code",
   "execution_count": null,
   "metadata": {},
   "outputs": [],
   "source": [
    "# Распечатайте «l»\n",
    "# Метод 1\n",
    "letter_l_1 = s[2]  \n",
    "\n",
    "print(letter_l_1)"
   ]
  },
  {
   "cell_type": "code",
   "execution_count": null,
   "metadata": {},
   "outputs": [],
   "source": [
    "# Метод 2\n",
    "letter_l_2 = s[-2]  \n",
    "\n",
    "print(letter_l_2)"
   ]
  },
  {
   "cell_type": "markdown",
   "metadata": {},
   "source": [
    "4) Какова длина строки \"Able\"?"
   ]
  },
  {
   "cell_type": "code",
   "execution_count": 8,
   "metadata": {},
   "outputs": [
    {
     "name": "stdout",
     "output_type": "stream",
     "text": [
      "4\n"
     ]
    }
   ],
   "source": [
    "# Код\n",
    "s = \"Able\"\n",
    "length = len(s)\n",
    "\n",
    "print(length)"
   ]
  },
  {
   "cell_type": "markdown",
   "metadata": {},
   "source": [
    "# СПИСКИ"
   ]
  },
  {
   "cell_type": "markdown",
   "metadata": {},
   "source": [
    "5) Постройте этот список [7,7,7] двумя разными способами."
   ]
  },
  {
   "cell_type": "code",
   "execution_count": null,
   "metadata": {},
   "outputs": [],
   "source": [
    "# Метод 1\n",
    "method_1 = [7, 7, 7]  \n",
    "\n",
    "print(method_1)"
   ]
  },
  {
   "cell_type": "code",
   "execution_count": 9,
   "metadata": {},
   "outputs": [
    {
     "name": "stdout",
     "output_type": "stream",
     "text": [
      "[7, 7, 7]\n"
     ]
    }
   ],
   "source": [
    "# Метод 2\n",
    "method_2 = [7] * 3  \n",
    "\n",
    "print(method_2)"
   ]
  },
  {
   "cell_type": "markdown",
   "metadata": {},
   "source": [
    "6) Переназначить «Able» в этом вложенном списке, чтобы вместо этого сказать «Academy»:"
   ]
  },
  {
   "cell_type": "code",
   "execution_count": 11,
   "metadata": {},
   "outputs": [
    {
     "name": "stdout",
     "output_type": "stream",
     "text": [
      "[1, 2, [3, 4, 'Academy']]\n"
     ]
    }
   ],
   "source": [
    "list_1 = [1,2,[3,4,'Able']]\n",
    "# Код\n",
    "list_1[2][2] = 'Academy'\n",
    "\n",
    "print(list_1)"
   ]
  },
  {
   "cell_type": "markdown",
   "metadata": {},
   "source": [
    "7) Сортировать список ниже:"
   ]
  },
  {
   "cell_type": "code",
   "execution_count": 12,
   "metadata": {},
   "outputs": [
    {
     "name": "stdout",
     "output_type": "stream",
     "text": [
      "[1, 3, 4, 5, 6]\n"
     ]
    }
   ],
   "source": [
    "list_2 = [5,3,4,6,1]\n",
    "# Код\n",
    "list_2.sort()\n",
    "\n",
    "print(list_2)"
   ]
  },
  {
   "cell_type": "markdown",
   "metadata": {},
   "source": [
    "# СЛОВАРИ"
   ]
  },
  {
   "cell_type": "markdown",
   "metadata": {},
   "source": [
    "8) Используя ключи и индексирование, выводите «Able» из следующих словарей:"
   ]
  },
  {
   "cell_type": "code",
   "execution_count": 13,
   "metadata": {},
   "outputs": [
    {
     "name": "stdout",
     "output_type": "stream",
     "text": [
      "Able\n"
     ]
    }
   ],
   "source": [
    "d = {'simple_key':'Able'}\n",
    "# Код\n",
    "\n",
    "\n",
    "value = d['simple_key']  # Получаем значение по ключу 'simple_key'\n",
    "\n",
    "print(value)"
   ]
  },
  {
   "cell_type": "code",
   "execution_count": null,
   "metadata": {},
   "outputs": [],
   "source": [
    "d = {'k1':{'k2':'Able'}}\n",
    "# Код\n",
    "value = d['k1']['k2']  # Получаем значение по ключам 'k1' и 'k2'\n",
    "\n",
    "print(value)"
   ]
  },
  {
   "cell_type": "code",
   "execution_count": null,
   "metadata": {},
   "outputs": [],
   "source": [
    "d = {'k1':[{'k2':['k3',['Able']]}]}\n",
    "# Код\n",
    "value = d['k1'][0]['k2'][1][0]  # Получаем значение из вложенной структуры\n",
    "\n",
    "print(value)"
   ]
  },
  {
   "cell_type": "code",
   "execution_count": 14,
   "metadata": {},
   "outputs": [
    {
     "name": "stdout",
     "output_type": "stream",
     "text": [
      "Able\n"
     ]
    }
   ],
   "source": [
    "d = {'k1':[1,2,{'k2':['k3',{'k4':[1,2,['Able']]}]}]}\n",
    "# Код\n",
    "value = d['k1'][2]['k2'][1]['k4'][2][0]  # Получаем значение из вложенной структуры\n",
    "\n",
    "print(value)"
   ]
  },
  {
   "cell_type": "markdown",
   "metadata": {},
   "source": [
    "9) Вы можете отсортировать словарь? Почему или почему нет?"
   ]
  },
  {
   "cell_type": "markdown",
   "metadata": {},
   "source": [
    "# КОРТЕЖИ"
   ]
  },
  {
   "cell_type": "markdown",
   "metadata": {},
   "source": [
    "10) В чем основное различие между кортежами и списками?"
   ]
  },
  {
   "cell_type": "code",
   "execution_count": null,
   "metadata": {},
   "outputs": [],
   "source": [
    "# Ответ:Словари могут быть отсортированы по ключам или значениям, используя функцию sorted(), но они сохраняют свою структуру, не сортируясь как списки или кортежи, которые имеют разную изменяемость данных."
   ]
  },
  {
   "cell_type": "markdown",
   "metadata": {},
   "source": [
    "11) Как вы создаете кортеж? Приведите пример"
   ]
  },
  {
   "cell_type": "code",
   "execution_count": 16,
   "metadata": {},
   "outputs": [
    {
     "ename": "SyntaxError",
     "evalue": "invalid syntax (4045804852.py, line 2)",
     "output_type": "error",
     "traceback": [
      "\u001b[1;36m  File \u001b[1;32m\"C:\\Users\\iskan\\AppData\\Local\\Temp\\ipykernel_8344\\4045804852.py\"\u001b[1;36m, line \u001b[1;32m2\u001b[0m\n\u001b[1;33m    my_tuple = (1, 2, 'hello').\u001b[0m\n\u001b[1;37m                               ^\u001b[0m\n\u001b[1;31mSyntaxError\u001b[0m\u001b[1;31m:\u001b[0m invalid syntax\n"
     ]
    }
   ],
   "source": [
    "# Код Кортеж создается перечислением элементов в круглых скобках ( ), например:\n",
    "my_tuple = (1, 2, 'hello')."
   ]
  },
  {
   "cell_type": "markdown",
   "metadata": {},
   "source": [
    "# МНОЖЕСТВА"
   ]
  },
  {
   "cell_type": "markdown",
   "metadata": {},
   "source": [
    "12) Что уникального во множестве?"
   ]
  },
  {
   "cell_type": "markdown",
   "metadata": {},
   "source": [
    "13) Используйте набор, чтобы найти уникальные значения из списка ниже:"
   ]
  },
  {
   "cell_type": "code",
   "execution_count": 18,
   "metadata": {},
   "outputs": [
    {
     "name": "stdout",
     "output_type": "stream",
     "text": [
      "{1, 2, 33, 4, 3, 11, 22}\n"
     ]
    }
   ],
   "source": [
    "#Ответ: Множество в Python содержит уникальные элементы, не допуская повторений\n",
    "list_3 = [1,2,2,33,4,4,11,22,3,3,2]\n",
    "# Код\n",
    "unique = set(list_3)  # Преобразуем список во множество\n",
    "\n",
    "print(unique)"
   ]
  },
  {
   "cell_type": "markdown",
   "metadata": {},
   "source": [
    "# Прекрасная работа!"
   ]
  }
 ],
 "metadata": {
  "kernelspec": {
   "display_name": "Python 3 (ipykernel)",
   "language": "python",
   "name": "python3"
  },
  "language_info": {
   "codemirror_mode": {
    "name": "ipython",
    "version": 3
   },
   "file_extension": ".py",
   "mimetype": "text/x-python",
   "name": "python",
   "nbconvert_exporter": "python",
   "pygments_lexer": "ipython3",
   "version": "3.9.13"
  }
 },
 "nbformat": 4,
 "nbformat_minor": 2
}
