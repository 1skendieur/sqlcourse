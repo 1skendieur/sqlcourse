{
 "cells": [
  {
   "cell_type": "markdown",
   "metadata": {},
   "source": [
    "### Списки [Домашнее задание]"
   ]
  },
  {
   "cell_type": "markdown",
   "metadata": {},
   "source": [
    "Даны следующие списки. Пожалуйста, выполните следующие задачи."
   ]
  },
  {
   "cell_type": "code",
   "execution_count": 4,
   "metadata": {},
   "outputs": [],
   "source": [
    "arr1 = [100,\"Brad\",-10,1,10.4,3,4,70,24,-9, \"Hello\", \"How\"]\n",
    "arr2 = [100,-10,1,3,4,70,24,-9]\n",
    "arr3 = [100,-10,1,3,10,4,70,24,-9]\n",
    "arr4 = [[1,2,3],[4,5,6]]\n",
    "arr5 = [[1,4],[2,5],[3,6]]"
   ]
  },
  {
   "cell_type": "code",
   "execution_count": 5,
   "metadata": {},
   "outputs": [
    {
     "name": "stdout",
     "output_type": "stream",
     "text": [
      "[100, 'Brad', -10, 1, 10.4, 3, 4, 70, 24, -9, 'Hello', 'How']\n",
      "[100, -10, 1, 3, 4, 70, 24, -9]\n",
      "[100, -10, 1, 3, 10, 4, 70, 24, -9]\n",
      "[[1, 2, 3], [4, 5, 6]]\n",
      "[[1, 4], [2, 5], [3, 6]]\n"
     ]
    }
   ],
   "source": [
    "print(arr1)\n",
    "print(arr2)\n",
    "print(arr3)\n",
    "print(arr4)\n",
    "print(arr5)"
   ]
  },
  {
   "cell_type": "markdown",
   "metadata": {},
   "source": [
    "### 1. Используя все возможные функции, преобразуйте arr1 в arr2."
   ]
  },
  {
   "cell_type": "code",
   "execution_count": 9,
   "metadata": {},
   "outputs": [
    {
     "name": "stdout",
     "output_type": "stream",
     "text": [
      "[100, -10, 1, 3, 4, 70, 24, -9]\n",
      "[100, -10, 1, 3, 4, 70, 24, -9]\n"
     ]
    }
   ],
   "source": [
    "# Начало вашего кода\n",
    "new_arr = []\n",
    "for elem in arr1:\n",
    "    if elem in arr2:\n",
    "        new_arr.append(elem)\n",
    "arr1 = new_arr\n",
    "# Конец вашего кода\n",
    "print(arr1)\n",
    "\n",
    "arr1 = [elem for elem in arr1 if elem in arr2]\n",
    "print(arr1)\n"
   ]
  },
  {
   "cell_type": "markdown",
   "metadata": {},
   "source": [
    "### Ожидаемые результаты:\n",
    "```\n",
    "[100, -10, 1, 3, 4, 70, 24, -9]\n",
    "```"
   ]
  },
  {
   "cell_type": "markdown",
   "metadata": {},
   "source": [
    "### 2. Сделайте транспонирование матриц arr4 в arr5."
   ]
  },
  {
   "cell_type": "code",
   "execution_count": 17,
   "metadata": {},
   "outputs": [
    {
     "name": "stdout",
     "output_type": "stream",
     "text": [
      "[[1, 4], [2, 5], [3, 6]]\n"
     ]
    }
   ],
   "source": [
    "# Начало вашего кода\n",
    "arr5 = [[arr4[j][i] for j in range(len(arr4))] for i in range(len(arr4[0]))]\n",
    "# Конец вашего кода\n",
    "print(arr5)"
   ]
  },
  {
   "cell_type": "markdown",
   "metadata": {},
   "source": [
    "### Ожидаемые результаты:\n",
    "```\n",
    "[[1, 4], [2, 5], [3, 6]]\n",
    "```"
   ]
  },
  {
   "cell_type": "markdown",
   "metadata": {},
   "source": [
    "### 3. Используя встроенную функцию insert(), преобразуйте arr2 в arr3"
   ]
  },
  {
   "cell_type": "code",
   "execution_count": 19,
   "metadata": {},
   "outputs": [
    {
     "name": "stdout",
     "output_type": "stream",
     "text": [
      "[100, -10, 1, 3, 10, 4, 70, 24, -9]\n"
     ]
    }
   ],
   "source": [
    "# Начало вашего кода\n",
    "for item in arr3:\n",
    "    if item not in arr2:\n",
    "        index = arr3.index(item)  \n",
    "        arr2.insert(index, item)  \n",
    "\n",
    "\n",
    "# Конец вашего кода\n",
    "print(arr2)"
   ]
  },
  {
   "cell_type": "markdown",
   "metadata": {},
   "source": [
    "### Ожидаемые результаты:\n",
    "```\n",
    "[100, -10, 1, 3, 10, 4, 70, 24, -9]\n",
    "```"
   ]
  },
  {
   "cell_type": "markdown",
   "metadata": {},
   "source": [
    "### 4. Отсортируйте приведенный список чисел arr3. Вы не можете использовать встроенную функцию сортировки sort(). Вы можете только использовать цикл for и условные операторы if-elif-else."
   ]
  },
  {
   "cell_type": "code",
   "execution_count": 20,
   "metadata": {},
   "outputs": [
    {
     "name": "stdout",
     "output_type": "stream",
     "text": [
      "[-10, -9, 1, 3, 4, 10, 24, 70, 100]\n"
     ]
    }
   ],
   "source": [
    "# Начало вашего кода\n",
    "arr3 = [100, -10, 1, 3, 10, 4, 70, 24, -9]\n",
    "\n",
    "n = len(arr3)\n",
    "for i in range(n):\n",
    "    for j in range(0, n - i - 1):\n",
    "        if arr3[j] > arr3[j + 1]:\n",
    "            # Обмен значений\n",
    "            arr3[j], arr3[j + 1] = arr3[j + 1], arr3[j]\n",
    "# Конец вашего кода\n",
    "print(arr3)"
   ]
  },
  {
   "cell_type": "markdown",
   "metadata": {},
   "source": [
    "### Ожидаемые результаты:\n",
    "```\n",
    "[-10, -9, 1, 3, 4, 10, 24, 70, 100]\n",
    "```"
   ]
  },
  {
   "cell_type": "markdown",
   "metadata": {},
   "source": [
    "### 5. Отсортируйте приведенный список чисел arr2 в обратном порядке. Вы не можете использовать встроенную функцию сортировки sort(). Вы можете только использовать цикл for и условные операторы if-elif-else."
   ]
  },
  {
   "cell_type": "code",
   "execution_count": 21,
   "metadata": {},
   "outputs": [
    {
     "name": "stdout",
     "output_type": "stream",
     "text": [
      "[100, 70, 24, 4, 3, 1, -9, -10]\n"
     ]
    }
   ],
   "source": [
    "# Начало вашего кода\n",
    "arr2 = [100, -10, 1, 3, 4, 70, 24, -9]\n",
    "\n",
    "for i in range(1, len(arr2)):\n",
    "    key = arr2[i]\n",
    "    j = i - 1\n",
    "    while j >= 0 and key > arr2[j]:\n",
    "        arr2[j + 1] = arr2[j]\n",
    "        j -= 1\n",
    "    arr2[j + 1] = key\n",
    "# Конец вашего кода\n",
    "print(arr2)"
   ]
  },
  {
   "cell_type": "markdown",
   "metadata": {},
   "source": [
    "### Ожидаемые результаты:\n",
    "```\n",
    "[100, 70, 24, 10, 4, 3, 1, -9, -10]\n",
    "```"
   ]
  }
 ],
 "metadata": {
  "kernelspec": {
   "display_name": "Python 3 (ipykernel)",
   "language": "python",
   "name": "python3"
  },
  "language_info": {
   "codemirror_mode": {
    "name": "ipython",
    "version": 3
   },
   "file_extension": ".py",
   "mimetype": "text/x-python",
   "name": "python",
   "nbconvert_exporter": "python",
   "pygments_lexer": "ipython3",
   "version": "3.9.13"
  }
 },
 "nbformat": 4,
 "nbformat_minor": 2
}
