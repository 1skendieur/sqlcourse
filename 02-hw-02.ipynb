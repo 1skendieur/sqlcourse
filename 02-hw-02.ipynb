{
 "cells": [
  {
   "cell_type": "markdown",
   "metadata": {},
   "source": [
    "### Очистка и подготовка данных [Домашнее задание]"
   ]
  },
  {
   "cell_type": "markdown",
   "metadata": {},
   "source": [
    "Загрузите следующий файл Excel «synthetic_data.csv» и выполните все методы очистки и предварительной обработки, которые вы изучили в лекции. \n",
    "\n",
    "Наконец, сохраните новые «очищенные» данные в новый CSV-файл «cleaned_synthetic_data.csv»"
   ]
  },
  {
   "cell_type": "markdown",
   "metadata": {},
   "source": [
    "Примечание: вы можете использовать функции, классы, модули, пакеты и т. д. для выполнения домашней работы."
   ]
  },
  {
   "cell_type": "code",
   "execution_count": 16,
   "metadata": {},
   "outputs": [],
   "source": [
    "import csv\n",
    "\n",
    "\n",
    "def clean_gender(gender):\n",
    "    return gender.strip().lower().replace('(', '').replace(')', '')\n",
    "\n",
    "\n",
    "def clean_nationality(nationality):\n",
    "    return nationality.strip().capitalize().replace('[', '').replace(']', '')\n",
    "\n",
    "\n",
    "def clean_city(city):\n",
    "    return city.strip().capitalize()\n",
    "\n",
    "\n",
    "def clean_date_of_birth(date):\n",
    "    parts = date.split('-')\n",
    "    return parts[-1] \n",
    "\n",
    "\n",
    "with open('synthetic_data.csv', newline='') as csvfile:\n",
    "    reader = csv.DictReader(csvfile)\n",
    "    data = list(reader)\n",
    "\n",
    "    for row in data:\n",
    "        row['gender'] = clean_gender(row['gender'])\n",
    "        row['nationality'] = clean_nationality(row['nationality'])\n",
    "        row['city'] = clean_city(row['city'])\n",
    "        row['data of birth'] = clean_date_of_birth(row['data of birth'])\n",
    "\n",
    "# Запись очищенных данных в новый файл\n",
    "fieldnames = ['id', 'gender', 'nationality', 'city', 'data of birth']\n",
    "with open('cleaned_synthetic_data.csv', 'w', newline='') as csvfile:\n",
    "    writer = csv.DictWriter(csvfile, fieldnames=fieldnames)\n",
    "    \n",
    "    writer.writeheader()\n",
    "    for row in data:\n",
    "        writer.writerow(row)\n",
    "\n"
   ]
  },
  {
   "cell_type": "code",
   "execution_count": null,
   "metadata": {},
   "outputs": [],
   "source": []
  }
 ],
 "metadata": {
  "kernelspec": {
   "display_name": "Python 3 (ipykernel)",
   "language": "python",
   "name": "python3"
  },
  "language_info": {
   "codemirror_mode": {
    "name": "ipython",
    "version": 3
   },
   "file_extension": ".py",
   "mimetype": "text/x-python",
   "name": "python",
   "nbconvert_exporter": "python",
   "pygments_lexer": "ipython3",
   "version": "3.9.13"
  }
 },
 "nbformat": 4,
 "nbformat_minor": 2
}
