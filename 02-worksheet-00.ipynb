{
 "cells": [
  {
   "cell_type": "markdown",
   "metadata": {},
   "source": [
    "# Проверьте и найдите все ошибки в строках кода ниже и исправьте их. \n",
    "\n",
    "\n",
    "Пожалуйста, будьте осторожны, есть не только синтаксические ошибки, но и ошибки реализации. Чтобы исправить ошибки, связанные с реализациями, внимательно проверьте **ожидаемые результаты.**.\n",
    "Некоторые из блоков кода содержат более одной ошибки, имейте это в виду.\n",
    "Запустите каждый блок кода, просмотрите сообщения об ошибках (или разницу с ожидаемыми результатами) и исправьте их (одно за другим).\n",
    "\n",
    "\n",
    "**Обратите внимание: не перезаписывайте код, просто исправьте ошибки, и коды будут работать.**"
   ]
  },
  {
   "cell_type": "code",
   "execution_count": 1,
   "metadata": {},
   "outputs": [
    {
     "name": "stdout",
     "output_type": "stream",
     "text": [
      "<module 'os' from 'C:\\\\Users\\\\iskan\\\\anaconda3\\\\lib\\\\os.py'>\n"
     ]
    }
   ],
   "source": [
    "import os\n",
    "print(os)"
   ]
  },
  {
   "cell_type": "code",
   "execution_count": 2,
   "metadata": {},
   "outputs": [
    {
     "name": "stdout",
     "output_type": "stream",
     "text": [
      "['.ipynb_checkpoints', '01-hw-01.ipynb', '01-hw-02.ipynb', '02-hw-01.ipynb', '02-hw-02.ipynb', '02-hw-03.ipynb', '02-hw-03.zip', '02-hw-05.ipynb', '02-worksheet-00.ipynb', '03-hw-01.ipynb', '2013.csv', '2014.csv', '2015.csv', '2016.csv', '2017.csv', '2018.csv', 'annual-enterprise-survey-2018-financial-year-provisional-csv.csv', 'arithmetics.ipynb', 'arithmetics.py', 'Basics-hw1-prob.ipynb', 'Basics-hw2-prob.ipynb', 'Basics-hw3-prob.ipynb', 'Basics-hw4-prob.ipynb', 'Basics-hw5-prob.ipynb', 'Basics-hw6-prob.ipynb', 'Basics-hw7-prob.ipynb', 'Basics-hw8-prob.ipynb', 'cleaned_synthetic_data.csv', 'cube.py', 'education', 'figures.csv', 'figures.py', 'figures1.csv', 'figure_functions.py', 'files', 'Files-hw1-prob.ipynb', 'Files-hw2-prob.ipynb', 'Final-project.ipynb', 'FinalProjectZIP.zip', 'format_scrubbed.csv', 'Functions-hw1-prob.ipynb', 'Functions-hw2-prob.ipynb', 'Modules-hw1-prob.ipynb', 'Modules-hw2-prob.ipynb', 'Modules-hw3-prob.ipynb', 'Modules-hw3zip.zip', 'new_file.txt', 'OOP-hw1-prob.ipynb', 'OOP-hw2-prob.ipynb', 'OOP-hw3-prob.ipynb', 'OOP-hw4-prob.ipynb', 'OOP-hw5-prob.ipynb', 'OOP-hw6-prob.ipynb', 'OOP-hw7-prob.ipynb', 'rectangle.py', 'school_report.csv', 'scrubbed.csv', 'square.py', 'synthetic_data.csv', 'test', 'Untitled.ipynb', 'Untitled1.ipynb', 'Untitled2.ipynb', 'Worksheet0.ipynb', 'Worksheet1.ipynb', 'Worksheet2.ipynb', 'Worksheet3.ipynb', 'Worksheet4.ipynb', 'Worksheet5.ipynb', 'Worksheet6.ipynb', '__pycache__']\n"
     ]
    }
   ],
   "source": [
    "print(os.listdir())"
   ]
  },
  {
   "cell_type": "code",
   "execution_count": 3,
   "metadata": {},
   "outputs": [],
   "source": [
    "import csv as c"
   ]
  },
  {
   "cell_type": "code",
   "execution_count": 4,
   "metadata": {},
   "outputs": [],
   "source": [
    "with open(\"example.csv\", mode='w', newline='') as file:\n",
    "    csv_writer = c.writer(file)\n",
    "    for i in range(10):\n",
    "        csv_writer.writerow([i, i + 1])\n",
    "\n",
    "        "
   ]
  },
  {
   "cell_type": "code",
   "execution_count": 8,
   "metadata": {},
   "outputs": [],
   "source": [
    "import csv\n",
    "data_a = [1, 2, 3, 4]\n",
    "data_b = [2, 3, 4, 5]\n",
    "\n",
    "with open(\"example1.csv\", mode='w', newline='') as file:\n",
    "    fieldnames = [\"a\", \"b\"]\n",
    "    writer = csv.DictWriter(file, fieldnames=fieldnames)\n",
    "    writer.writeheader()\n",
    "    for a, b in zip(data_a, data_b):\n",
    "        writer.writerow({\"a\": a, \"b\": b})"
   ]
  },
  {
   "cell_type": "code",
   "execution_count": 10,
   "metadata": {},
   "outputs": [
    {
     "name": "stdout",
     "output_type": "stream",
     "text": [
      "2020-01-01 00:00:00\n",
      "January 01 Wednesday 20\n"
     ]
    }
   ],
   "source": [
    "import datetime as dt\n",
    "\n",
    "date = \"01/01/2020\"\n",
    "new_date = dt.datetime.strptime(date, \"%d/%m/%Y\")\n",
    "print(new_date)\n",
    "print(new_date.strftime(\"%B %d %A %y\"))\n"
   ]
  },
  {
   "cell_type": "markdown",
   "metadata": {},
   "source": [
    "# Прекрасная работа!"
   ]
  }
 ],
 "metadata": {
  "kernelspec": {
   "display_name": "Python 3 (ipykernel)",
   "language": "python",
   "name": "python3"
  },
  "language_info": {
   "codemirror_mode": {
    "name": "ipython",
    "version": 3
   },
   "file_extension": ".py",
   "mimetype": "text/x-python",
   "name": "python",
   "nbconvert_exporter": "python",
   "pygments_lexer": "ipython3",
   "version": "3.9.13"
  }
 },
 "nbformat": 4,
 "nbformat_minor": 4
}
