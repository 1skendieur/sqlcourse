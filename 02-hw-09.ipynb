{
 "cells": [
  {
   "cell_type": "markdown",
   "metadata": {},
   "source": [
    "### NumPy: Функции & Модули [Домашнее задание]\n",
    "> **\n",
    "> **Пишите код только там, где это показано для записи. Не удаляйте комментарии!**"
   ]
  },
  {
   "cell_type": "markdown",
   "metadata": {},
   "source": [
    "1. Пожалуйста, протестируйте все функции, упомянутые в видео лекции, и постарайтесь разобраться в них. \n",
    "Некоторые функции содержат аргументы, пожалуйста, поэкспериментируйте с ними."
   ]
  },
  {
   "cell_type": "code",
   "execution_count": 10,
   "metadata": {},
   "outputs": [
    {
     "name": "stdout",
     "output_type": "stream",
     "text": [
      "[[0. 0. 0.]\n",
      " [0. 0. 0.]]\n"
     ]
    }
   ],
   "source": [
    "# numpy.zeros\n",
    "import numpy as np\n",
    "zeros_array = np.zeros((2, 3))\n",
    "print(zeros_array)"
   ]
  },
  {
   "cell_type": "code",
   "execution_count": 11,
   "metadata": {},
   "outputs": [
    {
     "name": "stdout",
     "output_type": "stream",
     "text": [
      "[[1. 1. 1.]\n",
      " [1. 1. 1.]]\n",
      "\n",
      " [[[1. 1.]\n",
      "  [1. 1.]\n",
      "  [1. 1.]\n",
      "  [1. 1.]]\n",
      "\n",
      " [[1. 1.]\n",
      "  [1. 1.]\n",
      "  [1. 1.]\n",
      "  [1. 1.]]\n",
      "\n",
      " [[1. 1.]\n",
      "  [1. 1.]\n",
      "  [1. 1.]\n",
      "  [1. 1.]]]\n"
     ]
    }
   ],
   "source": [
    "# numpy.ones\n",
    "ones_array = np.ones((2, 3))\n",
    "print(ones_array)\n",
    "ones_3d_array = np.ones((3, 4, 2))\n",
    "print(\"\\n\",ones_3d_array)"
   ]
  },
  {
   "cell_type": "code",
   "execution_count": 12,
   "metadata": {},
   "outputs": [
    {
     "name": "stdout",
     "output_type": "stream",
     "text": [
      "[[5 5 5]\n",
      " [5 5 5]]\n",
      "\n",
      "\n",
      "[[[3.14 3.14]\n",
      "  [3.14 3.14]\n",
      "  [3.14 3.14]\n",
      "  [3.14 3.14]]\n",
      "\n",
      " [[3.14 3.14]\n",
      "  [3.14 3.14]\n",
      "  [3.14 3.14]\n",
      "  [3.14 3.14]]\n",
      "\n",
      " [[3.14 3.14]\n",
      "  [3.14 3.14]\n",
      "  [3.14 3.14]\n",
      "  [3.14 3.14]]]\n"
     ]
    }
   ],
   "source": [
    "# numpy.full\n",
    "full_array = np.full((2, 3), 5)\n",
    "print(full_array)\n",
    "full_3d_array = np.full((3, 4, 2), 3.14)\n",
    "print(\"\\n\")\n",
    "print(full_3d_array)\n"
   ]
  },
  {
   "cell_type": "code",
   "execution_count": 13,
   "metadata": {},
   "outputs": [
    {
     "name": "stdout",
     "output_type": "stream",
     "text": [
      "[[1. 0. 0.]\n",
      " [0. 1. 0.]\n",
      " [0. 0. 1.]]\n",
      "\n",
      "\n",
      "[[0. 1. 0. 0. 0.]\n",
      " [0. 0. 1. 0. 0.]\n",
      " [0. 0. 0. 1. 0.]\n",
      " [0. 0. 0. 0. 1.]\n",
      " [0. 0. 0. 0. 0.]]\n"
     ]
    }
   ],
   "source": [
    "# numpy.eye\n",
    "eye_matrix_3x3 = np.eye(3)\n",
    "print(eye_matrix_3x3)\n",
    "eye_matrix_offset = np.eye(5, k=1)\n",
    "print(\"\\n\")\n",
    "print(eye_matrix_offset)"
   ]
  },
  {
   "cell_type": "code",
   "execution_count": 14,
   "metadata": {},
   "outputs": [
    {
     "name": "stdout",
     "output_type": "stream",
     "text": [
      "[0 1 2 3 4 5 6 7 8 9]\n",
      "\n",
      "\n",
      "[1 3 5 7 9]\n",
      "\n",
      "\n",
      "[3 2 1]\n"
     ]
    }
   ],
   "source": [
    "# numpy.arange\n",
    "arr1 = np.arange(10)\n",
    "print(arr1)\n",
    "arr2 = np.arange(1, 11, 2)\n",
    "print(\"\\n\")\n",
    "print(arr2)\n",
    "arr3 = np.arange(3, 0, -1)\n",
    "print(\"\\n\")\n",
    "print(arr3)"
   ]
  },
  {
   "cell_type": "code",
   "execution_count": 17,
   "metadata": {},
   "outputs": [
    {
     "name": "stdout",
     "output_type": "stream",
     "text": [
      "[ 6  8 10 12]\n"
     ]
    }
   ],
   "source": [
    "# numpy.add\n",
    "arr1 = np.array([1, 2, 3, 4])\n",
    "arr2 = np.array([5, 6, 7, 8])\n",
    "\n",
    "result = np.add(arr1, arr2)\n",
    "\n",
    "print(result)"
   ]
  },
  {
   "cell_type": "code",
   "execution_count": 18,
   "metadata": {},
   "outputs": [
    {
     "name": "stdout",
     "output_type": "stream",
     "text": [
      "[ 3  7 11 15]\n"
     ]
    }
   ],
   "source": [
    "# numpy.subtract\n",
    "arr1 = np.array([5, 10, 15, 20])\n",
    "arr2 = np.array([2, 3, 4, 5])\n",
    "\n",
    "result = np.subtract(arr1, arr2)\n",
    "print(result)"
   ]
  },
  {
   "cell_type": "code",
   "execution_count": 19,
   "metadata": {},
   "outputs": [
    {
     "name": "stdout",
     "output_type": "stream",
     "text": [
      "[0.  0.5 1.  1.5 2.  2.5 3. ]\n",
      "[0.         0.47942554 0.84147098 0.99749499 0.90929743 0.59847214\n",
      " 0.14112001]\n"
     ]
    }
   ],
   "source": [
    "# numpy.sin\n",
    "arr = np.arange(0, np.pi, 0.5)\n",
    "print(arr)\n",
    "\n",
    "sin_arr = np.sin(arr)\n",
    "print(sin_arr)"
   ]
  },
  {
   "cell_type": "code",
   "execution_count": 21,
   "metadata": {},
   "outputs": [
    {
     "name": "stdout",
     "output_type": "stream",
     "text": [
      "[ 5 12 21 32]\n"
     ]
    }
   ],
   "source": [
    "# numpy.multiply\n",
    "arr1 = np.array([1, 2, 3, 4])\n",
    "arr2 = np.array([5, 6, 7, 8])\n",
    "\n",
    "result = np.multiply(arr1, arr2)\n",
    "print(result)"
   ]
  },
  {
   "cell_type": "code",
   "execution_count": 22,
   "metadata": {},
   "outputs": [
    {
     "name": "stdout",
     "output_type": "stream",
     "text": [
      "[2. 3. 4. 5.]\n"
     ]
    }
   ],
   "source": [
    "# numpy.sqrt\n",
    "arr = np.array([4, 9, 16, 25])\n",
    "\n",
    "sqrt_arr = np.sqrt(arr)\n",
    "print(sqrt_arr)"
   ]
  },
  {
   "cell_type": "code",
   "execution_count": 23,
   "metadata": {},
   "outputs": [
    {
     "name": "stdout",
     "output_type": "stream",
     "text": [
      "[[19 22]\n",
      " [43 50]]\n"
     ]
    }
   ],
   "source": [
    "# numpy.dot\n",
    "matrix1 = np.array([[1, 2], [3, 4]])\n",
    "matrix2 = np.array([[5, 6], [7, 8]])\n",
    "\n",
    "# Умножение матриц\n",
    "result_matrix = np.dot(matrix1, matrix2)\n",
    "print(result_matrix)"
   ]
  },
  {
   "cell_type": "code",
   "execution_count": 24,
   "metadata": {},
   "outputs": [
    {
     "name": "stdout",
     "output_type": "stream",
     "text": [
      "10\n"
     ]
    }
   ],
   "source": [
    "# numpy.sum\n",
    "arr = np.array([[1, 2], [3, 4]])\n",
    "\n",
    "total_sum = np.sum(arr)\n",
    "print(total_sum)"
   ]
  },
  {
   "cell_type": "code",
   "execution_count": 25,
   "metadata": {},
   "outputs": [
    {
     "name": "stdout",
     "output_type": "stream",
     "text": [
      "[[0 0]\n",
      " [0 0]]\n"
     ]
    }
   ],
   "source": [
    "# numpy.zeros_like\n",
    "arr = np.array([[1, 2], [3, 4]])\n",
    "\n",
    "zeros_like_arr = np.zeros_like(arr)\n",
    "print(zeros_like_arr)"
   ]
  },
  {
   "cell_type": "code",
   "execution_count": 27,
   "metadata": {},
   "outputs": [
    {
     "name": "stdout",
     "output_type": "stream",
     "text": [
      "[[1 2]\n",
      " [3 4]]\n"
     ]
    }
   ],
   "source": [
    "# numpy.empty_like\n",
    "arr = np.array([[1, 2], [3, 4]])\n",
    "empty_like_arr = np.empty_like(arr)\n",
    "print(empty_like_arr)"
   ]
  },
  {
   "cell_type": "code",
   "execution_count": null,
   "metadata": {},
   "outputs": [],
   "source": [
    "# numpy.reshape\n"
   ]
  },
  {
   "cell_type": "code",
   "execution_count": null,
   "metadata": {},
   "outputs": [],
   "source": [
    "# numpy.isnan\n"
   ]
  },
  {
   "cell_type": "markdown",
   "metadata": {},
   "source": [
    "2. Пожалуйста, протестируйте все функции модуля ```numpy.random```, упомянутые в видео лекции, и постарайтесь разобраться в них. \n",
    "Некоторые функции содержат аргументы, пожалуйста, поэкспериментируйте с ними."
   ]
  },
  {
   "cell_type": "code",
   "execution_count": 29,
   "metadata": {},
   "outputs": [
    {
     "name": "stdout",
     "output_type": "stream",
     "text": [
      "[1 2 3 4 5 6 7 8 9]\n",
      "\n",
      "\n",
      "[[1 2 3]\n",
      " [4 5 6]\n",
      " [7 8 9]]\n"
     ]
    }
   ],
   "source": [
    "# numpy.random.sample\n",
    "arr = np.arange(1, 10)\n",
    "print(arr)\n",
    "\n",
    "reshaped_arr = np.reshape(arr, (3, 3))\n",
    "print(\"\\n\")\n",
    "print(reshaped_arr)"
   ]
  },
  {
   "cell_type": "code",
   "execution_count": 33,
   "metadata": {},
   "outputs": [
    {
     "name": "stdout",
     "output_type": "stream",
     "text": [
      "[[0.6401527  0.83281946 0.17386933]\n",
      " [0.11140112 0.77652459 0.17612255]]\n"
     ]
    }
   ],
   "source": [
    "# numpy.random.random\n",
    "random_array = np.random.random((2, 3))\n",
    "print(random_array)"
   ]
  },
  {
   "cell_type": "code",
   "execution_count": 34,
   "metadata": {},
   "outputs": [
    {
     "name": "stdout",
     "output_type": "stream",
     "text": [
      "[[9 6 4]\n",
      " [0 3 9]]\n"
     ]
    }
   ],
   "source": [
    "# numpy.random.randint\n",
    "random_integers = np.random.randint(0, 10, size=(2, 3))\n",
    "print(random_integers)"
   ]
  },
  {
   "cell_type": "code",
   "execution_count": 37,
   "metadata": {},
   "outputs": [
    {
     "name": "stdout",
     "output_type": "stream",
     "text": [
      "[[9 4 6]\n",
      " [4 7 4]]\n"
     ]
    }
   ],
   "source": [
    "# numpy.random.random_integers\n",
    "random_integers = np.random.randint(1, 11, size=(2, 3))\n",
    "print(random_integers)"
   ]
  },
  {
   "cell_type": "code",
   "execution_count": 38,
   "metadata": {},
   "outputs": [
    {
     "name": "stdout",
     "output_type": "stream",
     "text": [
      "[[0.90134    0.42931915 0.67644239]\n",
      " [0.94186891 0.67426623 0.78818205]]\n"
     ]
    }
   ],
   "source": [
    "# numpy.random.uniform\n",
    "random_uniform = np.random.uniform(0.0, 1.0, size=(2, 3))\n",
    "print(random_uniform)"
   ]
  },
  {
   "cell_type": "code",
   "execution_count": 39,
   "metadata": {},
   "outputs": [
    {
     "name": "stdout",
     "output_type": "stream",
     "text": [
      "[[6 3 7]\n",
      " [4 6 9]]\n"
     ]
    }
   ],
   "source": [
    "# numpy.random.seed\n",
    "np.random.seed(42)\n",
    "random_integers = np.random.randint(0, 10, size=(2, 3))\n",
    "print(random_integers)"
   ]
  },
  {
   "cell_type": "code",
   "execution_count": 40,
   "metadata": {},
   "outputs": [
    {
     "name": "stdout",
     "output_type": "stream",
     "text": [
      "[[4 5 6]\n",
      " [1 2 3]\n",
      " [7 8 9]]\n"
     ]
    }
   ],
   "source": [
    "# numpy.random.shuffle\n",
    "arr = np.array([[1, 2, 3],\n",
    "                [4, 5, 6],\n",
    "                [7, 8, 9]])\n",
    "\n",
    "np.random.shuffle(arr)\n",
    "print(arr)"
   ]
  },
  {
   "cell_type": "code",
   "execution_count": 41,
   "metadata": {},
   "outputs": [
    {
     "name": "stdout",
     "output_type": "stream",
     "text": [
      "[4 2 1 5 3]\n"
     ]
    }
   ],
   "source": [
    "# numpy.random.permutation\n",
    "arr = np.array([1, 2, 3, 4, 5])\n",
    "permuted_arr = np.random.permutation(arr)\n",
    "print(permuted_arr)"
   ]
  },
  {
   "cell_type": "code",
   "execution_count": 42,
   "metadata": {},
   "outputs": [
    {
     "name": "stdout",
     "output_type": "stream",
     "text": [
      "[5 4 1]\n"
     ]
    }
   ],
   "source": [
    "# numpy.random.choice\n",
    "arr = np.array([1, 2, 3, 4, 5])\n",
    "random_elements = np.random.choice(arr, size=3, replace=False)\n",
    "print(random_elements)"
   ]
  },
  {
   "cell_type": "markdown",
   "metadata": {},
   "source": [
    "# Прекрасная работа!"
   ]
  }
 ],
 "metadata": {
  "kernelspec": {
   "display_name": "Python 3 (ipykernel)",
   "language": "python",
   "name": "python3"
  },
  "language_info": {
   "codemirror_mode": {
    "name": "ipython",
    "version": 3
   },
   "file_extension": ".py",
   "mimetype": "text/x-python",
   "name": "python",
   "nbconvert_exporter": "python",
   "pygments_lexer": "ipython3",
   "version": "3.9.13"
  }
 },
 "nbformat": 4,
 "nbformat_minor": 2
}
